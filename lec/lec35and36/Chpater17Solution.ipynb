{
 "cells": [
  {
   "cell_type": "markdown",
   "metadata": {},
   "source": [
    "# Homework 12: Classification\n"
   ]
  },
  {
   "cell_type": "markdown",
   "metadata": {},
   "source": [
    "**Reading**: \n",
    "* [Classification](https://data8-demo.jupyterlite.app/chapters/17/classification)"
   ]
  },
  {
   "cell_type": "markdown",
   "metadata": {},
   "source": [
    "Please complete this notebook by filling in the cells provided.\n",
    "\n",
    "Directly sharing answers is not okay, but discussing problems with the course staff or with other students is encouraged.\n",
    "\n",
    "For all problems that you must write our explanations and sentences for, you must provide your answer in the designated space. Moreover, throughout this homework and all future ones, please be sure to not re-assign variables throughout the notebook! For example, if you use max_temperature in your answer to one question, do not reassign it later on."
   ]
  },
  {
   "cell_type": "code",
   "execution_count": 1,
   "metadata": {
    "ExecuteTime": {
     "end_time": "2018-04-04T09:34:44.498842Z",
     "start_time": "2018-04-04T09:34:42.821921Z"
    }
   },
   "outputs": [],
   "source": [
    "# Don't change this cell; just run it. \n",
    "import numpy as np\n",
    "from datascience import *"
   ]
  },
  {
   "cell_type": "code",
   "execution_count": 2,
   "metadata": {
    "ExecuteTime": {
     "end_time": "2018-04-04T09:34:44.498842Z",
     "start_time": "2018-04-04T09:34:42.821921Z"
    }
   },
   "outputs": [],
   "source": [
    "# These lines do some fancy plotting magic.\n",
    "import matplotlib\n",
    "%matplotlib inline\n",
    "import matplotlib.pyplot as plt\n",
    "plt.style.use('fivethirtyeight')\n",
    "import warnings\n",
    "warnings.simplefilter('ignore', FutureWarning)"
   ]
  },
  {
   "cell_type": "code",
   "execution_count": 3,
   "metadata": {},
   "outputs": [],
   "source": [
    "def standard_units(arr):\n",
    "    return (arr - np.average(arr))/np.std(arr)"
   ]
  },
  {
   "cell_type": "code",
   "execution_count": 4,
   "metadata": {
    "scrolled": true
   },
   "outputs": [
    {
     "data": {
      "text/plain": [
       "Row(Age=48, Blood Pressure=70, Specific Gravity=1.005, Albumin=4, Sugar=0, Red Blood Cells='normal', Pus Cell='abnormal', Pus Cell clumps='present', Bacteria='notpresent', Glucose=117, Blood Urea=56, Serum Creatinine=3.8, Sodium=111, Potassium=2.5, Hemoglobin=11.2, Packed Cell Volume=32, White Blood Cell Count=6700, Red Blood Cell Count=3.9, Hypertension='yes', Diabetes Mellitus='no', Coronary Artery Disease='no', Appetite='poor', Pedal Edema='yes', Anemia='yes', Class=1)"
      ]
     },
     "execution_count": 4,
     "metadata": {},
     "output_type": "execute_result"
    }
   ],
   "source": [
    "ckd = Table.read_table('ckd.csv').relabeled('Blood Glucose Random', 'Glucose')\n",
    "ckd.row(0)"
   ]
  },
  {
   "cell_type": "code",
   "execution_count": 5,
   "metadata": {},
   "outputs": [
    {
     "data": {
      "text/html": [
       "<table border=\"1\" class=\"dataframe\">\n",
       "    <thead>\n",
       "        <tr>\n",
       "            <th>Hemoglobin</th> <th>Glucose</th> <th>White Blood Cell Count</th> <th>Class</th>\n",
       "        </tr>\n",
       "    </thead>\n",
       "    <tbody>\n",
       "        <tr>\n",
       "            <td>-0.865744 </td> <td>-0.221549</td> <td>-0.569768             </td> <td>1    </td>\n",
       "        </tr>\n",
       "        <tr>\n",
       "            <td>-1.45745  </td> <td>-0.947597</td> <td>1.16268               </td> <td>1    </td>\n",
       "        </tr>\n",
       "        <tr>\n",
       "            <td>-1.00497  </td> <td>3.84123  </td> <td>-1.27558              </td> <td>1    </td>\n",
       "        </tr>\n",
       "        <tr>\n",
       "            <td>-2.81488  </td> <td>0.396364 </td> <td>0.809777              </td> <td>1    </td>\n",
       "        </tr>\n",
       "        <tr>\n",
       "            <td>-2.08395  </td> <td>0.643529 </td> <td>0.232293              </td> <td>1    </td>\n",
       "        </tr>\n",
       "        <tr>\n",
       "            <td>-1.35303  </td> <td>-0.561402</td> <td>-0.505603             </td> <td>1    </td>\n",
       "        </tr>\n",
       "        <tr>\n",
       "            <td>-0.413266 </td> <td>2.04928  </td> <td>0.360623              </td> <td>1    </td>\n",
       "        </tr>\n",
       "        <tr>\n",
       "            <td>-1.28342  </td> <td>-0.947597</td> <td>3.34429               </td> <td>1    </td>\n",
       "        </tr>\n",
       "        <tr>\n",
       "            <td>-1.10939  </td> <td>1.87936  </td> <td>-0.409356             </td> <td>1    </td>\n",
       "        </tr>\n",
       "        <tr>\n",
       "            <td>-1.35303  </td> <td>0.489051 </td> <td>1.96475               </td> <td>1    </td>\n",
       "        </tr>\n",
       "    </tbody>\n",
       "</table>\n",
       "<p>... (148 rows omitted)</p>"
      ],
      "text/plain": [
       "Hemoglobin | Glucose   | White Blood Cell Count | Class\n",
       "-0.865744  | -0.221549 | -0.569768              | 1\n",
       "-1.45745   | -0.947597 | 1.16268                | 1\n",
       "-1.00497   | 3.84123   | -1.27558               | 1\n",
       "-2.81488   | 0.396364  | 0.809777               | 1\n",
       "-2.08395   | 0.643529  | 0.232293               | 1\n",
       "-1.35303   | -0.561402 | -0.505603              | 1\n",
       "-0.413266  | 2.04928   | 0.360623               | 1\n",
       "-1.28342   | -0.947597 | 3.34429                | 1\n",
       "-1.10939   | 1.87936   | -0.409356              | 1\n",
       "-1.35303   | 0.489051  | 1.96475                | 1\n",
       "... (148 rows omitted)"
      ]
     },
     "execution_count": 5,
     "metadata": {},
     "output_type": "execute_result"
    }
   ],
   "source": [
    "ckd = Table().with_columns(\n",
    "    'Hemoglobin', standard_units(ckd.column('Hemoglobin')),\n",
    "    'Glucose', standard_units(ckd.column('Glucose')),\n",
    "    'White Blood Cell Count', standard_units(ckd.column('White Blood Cell Count')),\n",
    "    'Class', ckd.column('Class')\n",
    ")\n",
    "ckd"
   ]
  },
  {
   "cell_type": "code",
   "execution_count": 6,
   "metadata": {},
   "outputs": [],
   "source": [
    "color_table = Table().with_columns(\n",
    "    'Class', make_array(1, 0),\n",
    "    'Color', make_array('darkblue', 'gold')\n",
    ")\n",
    "ckd = ckd.join('Class', color_table)"
   ]
  },
  {
   "cell_type": "code",
   "execution_count": 7,
   "metadata": {},
   "outputs": [
    {
     "data": {
      "text/html": [
       "<table border=\"1\" class=\"dataframe\">\n",
       "    <thead>\n",
       "        <tr>\n",
       "            <th>Class</th> <th>Hemoglobin</th> <th>Glucose</th> <th>White Blood Cell Count</th> <th>Color</th>\n",
       "        </tr>\n",
       "    </thead>\n",
       "    <tbody>\n",
       "        <tr>\n",
       "            <td>0    </td> <td>0.456884  </td> <td>0.133751   </td> <td>0.617283              </td> <td>gold </td>\n",
       "        </tr>\n",
       "        <tr>\n",
       "            <td>0    </td> <td>1.153     </td> <td>-0.947597  </td> <td>0.424788              </td> <td>gold </td>\n",
       "        </tr>\n",
       "        <tr>\n",
       "            <td>0    </td> <td>0.770138  </td> <td>-0.762223  </td> <td>0.200211              </td> <td>gold </td>\n",
       "        </tr>\n",
       "        <tr>\n",
       "            <td>0    </td> <td>0.596108  </td> <td>-0.190654  </td> <td>-0.73018              </td> <td>gold </td>\n",
       "        </tr>\n",
       "        <tr>\n",
       "            <td>0    </td> <td>-0.239236 </td> <td>-0.49961   </td> <td>-0.0564489            </td> <td>gold </td>\n",
       "        </tr>\n",
       "        <tr>\n",
       "            <td>0    </td> <td>-0.0304002</td> <td>-0.159758  </td> <td>0.232293              </td> <td>gold </td>\n",
       "        </tr>\n",
       "        <tr>\n",
       "            <td>0    </td> <td>0.282854  </td> <td>-0.00527964</td> <td>0.71353               </td> <td>gold </td>\n",
       "        </tr>\n",
       "        <tr>\n",
       "            <td>0    </td> <td>0.108824  </td> <td>-0.623193  </td> <td>0.200211              </td> <td>gold </td>\n",
       "        </tr>\n",
       "        <tr>\n",
       "            <td>0    </td> <td>0.0740178 </td> <td>-0.515058  </td> <td>-0.0243664            </td> <td>gold </td>\n",
       "        </tr>\n",
       "        <tr>\n",
       "            <td>0    </td> <td>0.83975   </td> <td>-0.422371  </td> <td>-1.33975              </td> <td>gold </td>\n",
       "        </tr>\n",
       "    </tbody>\n",
       "</table>\n",
       "<p>... (148 rows omitted)</p>"
      ],
      "text/plain": [
       "Class | Hemoglobin | Glucose     | White Blood Cell Count | Color\n",
       "0     | 0.456884   | 0.133751    | 0.617283               | gold\n",
       "0     | 1.153      | -0.947597   | 0.424788               | gold\n",
       "0     | 0.770138   | -0.762223   | 0.200211               | gold\n",
       "0     | 0.596108   | -0.190654   | -0.73018               | gold\n",
       "0     | -0.239236  | -0.49961    | -0.0564489             | gold\n",
       "0     | -0.0304002 | -0.159758   | 0.232293               | gold\n",
       "0     | 0.282854   | -0.00527964 | 0.71353                | gold\n",
       "0     | 0.108824   | -0.623193   | 0.200211               | gold\n",
       "0     | 0.0740178  | -0.515058   | -0.0243664             | gold\n",
       "0     | 0.83975    | -0.422371   | -1.33975               | gold\n",
       "... (148 rows omitted)"
      ]
     },
     "execution_count": 7,
     "metadata": {},
     "output_type": "execute_result"
    }
   ],
   "source": [
    "ckd"
   ]
  },
  {
   "cell_type": "code",
   "execution_count": 8,
   "metadata": {},
   "outputs": [
    {
     "data": {
      "image/png": "[encoded data removed]",
      "text/plain": [
       "<Figure size 360x360 with 1 Axes>"
      ]
     },
     "metadata": {},
     "output_type": "display_data"
    }
   ],
   "source": [
    "ckd.scatter('White Blood Cell Count', 'Glucose', group='Color')\n",
    "plt.xlim(-4, 2)\n",
    "plt.ylim(-2, 4);"
   ]
  },
  {
   "cell_type": "code",
   "execution_count": 9,
   "metadata": {},
   "outputs": [
    {
     "data": {
      "image/png": "[encoded data removed]",
      "text/plain": [
       "<Figure size 360x360 with 1 Axes>"
      ]
     },
     "metadata": {},
     "output_type": "display_data"
    }
   ],
   "source": [
    "ckd.scatter('Hemoglobin', 'Glucose', group='Color')\n",
    "plt.xlim(-4, 2)\n",
    "plt.ylim(-2, 4);"
   ]
  },
  {
   "cell_type": "code",
   "execution_count": 10,
   "metadata": {},
   "outputs": [],
   "source": [
    "shuffled_ckd = ckd.sample(with_replacement=False)\n",
    "training = shuffled_ckd.take(np.arange(79))\n",
    "testing = shuffled_ckd.take(np.arange(79, 158))"
   ]
  },
  {
   "cell_type": "code",
   "execution_count": 11,
   "metadata": {},
   "outputs": [
    {
     "data": {
      "text/html": [
       "<table border=\"1\" class=\"dataframe\">\n",
       "    <thead>\n",
       "        <tr>\n",
       "            <th>Class</th> <th>Hemoglobin</th> <th>Glucose</th> <th>White Blood Cell Count</th> <th>Color</th>\n",
       "        </tr>\n",
       "    </thead>\n",
       "    <tbody>\n",
       "        <tr>\n",
       "            <td>0    </td> <td>-0.0304002</td> <td>-0.700432 </td> <td>-0.85851              </td> <td>gold    </td>\n",
       "        </tr>\n",
       "        <tr>\n",
       "            <td>0    </td> <td>1.43145   </td> <td>0.0101682 </td> <td>-1.21142              </td> <td>gold    </td>\n",
       "        </tr>\n",
       "        <tr>\n",
       "            <td>0    </td> <td>0.0740178 </td> <td>-0.515058 </td> <td>-0.0243664            </td> <td>gold    </td>\n",
       "        </tr>\n",
       "        <tr>\n",
       "            <td>0    </td> <td>0.978974  </td> <td>-0.283341 </td> <td>-0.152696             </td> <td>gold    </td>\n",
       "        </tr>\n",
       "        <tr>\n",
       "            <td>1    </td> <td>-1.87512  </td> <td>2.18831   </td> <td>1.96475               </td> <td>darkblue</td>\n",
       "        </tr>\n",
       "        <tr>\n",
       "            <td>0    </td> <td>0.31766   </td> <td>-0.453267 </td> <td>-0.537686             </td> <td>gold    </td>\n",
       "        </tr>\n",
       "        <tr>\n",
       "            <td>0    </td> <td>0.944168  </td> <td>-0.669536 </td> <td>0.200211              </td> <td>gold    </td>\n",
       "        </tr>\n",
       "        <tr>\n",
       "            <td>0    </td> <td>0.874556  </td> <td>-0.221549 </td> <td>0.0397985             </td> <td>gold    </td>\n",
       "        </tr>\n",
       "        <tr>\n",
       "            <td>0    </td> <td>-0.0304002</td> <td>-0.49961  </td> <td>-0.377273             </td> <td>gold    </td>\n",
       "        </tr>\n",
       "        <tr>\n",
       "            <td>0    </td> <td>-0.100012 </td> <td>-0.0207275</td> <td>-0.377273             </td> <td>gold    </td>\n",
       "        </tr>\n",
       "    </tbody>\n",
       "</table>\n",
       "<p>... (69 rows omitted)</p>"
      ],
      "text/plain": [
       "Class | Hemoglobin | Glucose    | White Blood Cell Count | Color\n",
       "0     | -0.0304002 | -0.700432  | -0.85851               | gold\n",
       "0     | 1.43145    | 0.0101682  | -1.21142               | gold\n",
       "0     | 0.0740178  | -0.515058  | -0.0243664             | gold\n",
       "0     | 0.978974   | -0.283341  | -0.152696              | gold\n",
       "1     | -1.87512   | 2.18831    | 1.96475                | darkblue\n",
       "0     | 0.31766    | -0.453267  | -0.537686              | gold\n",
       "0     | 0.944168   | -0.669536  | 0.200211               | gold\n",
       "0     | 0.874556   | -0.221549  | 0.0397985              | gold\n",
       "0     | -0.0304002 | -0.49961   | -0.377273              | gold\n",
       "0     | -0.100012  | -0.0207275 | -0.377273              | gold\n",
       "... (69 rows omitted)"
      ]
     },
     "execution_count": 11,
     "metadata": {},
     "output_type": "execute_result"
    }
   ],
   "source": [
    "training"
   ]
  },
  {
   "cell_type": "code",
   "execution_count": 12,
   "metadata": {},
   "outputs": [
    {
     "data": {
      "image/png": "[encoded data removed]",
      "text/plain": [
       "<Figure size 360x360 with 1 Axes>"
      ]
     },
     "metadata": {},
     "output_type": "display_data"
    }
   ],
   "source": [
    "training.scatter('Hemoglobin', 'Glucose', group='Color')\n",
    "plt.xlim(-4, 2)\n",
    "plt.ylim(-2, 4);"
   ]
  },
  {
   "cell_type": "code",
   "execution_count": 13,
   "metadata": {},
   "outputs": [
    {
     "data": {
      "image/png": "[encoded data removed]",
      "text/plain": [
       "<Figure size 360x360 with 1 Axes>"
      ]
     },
     "metadata": {},
     "output_type": "display_data"
    }
   ],
   "source": [
    "testing.scatter('Hemoglobin', 'Glucose', group='Color')\n",
    "plt.xlim(-4, 2)\n",
    "plt.ylim(-2, 4);"
   ]
  },
  {
   "cell_type": "code",
   "execution_count": 14,
   "metadata": {},
   "outputs": [
    {
     "data": {
      "image/png": "[encoded data removed]",
      "text/plain": [
       "<Figure size 360x360 with 1 Axes>"
      ]
     },
     "metadata": {},
     "output_type": "display_data"
    }
   ],
   "source": [
    "alice = make_array(0, 1.1)\n",
    "\n",
    "training.scatter('Hemoglobin', 'Glucose', group='Color')\n",
    "plt.xlim(-4, 2)\n",
    "plt.ylim(-2, 4)\n",
    "plt.scatter(alice.item(0), alice.item(1), color='red', s=30);"
   ]
  },
  {
   "cell_type": "code",
   "execution_count": 15,
   "metadata": {},
   "outputs": [],
   "source": [
    "training_set= training.select('Class','Hemoglobin','Glucose')\n",
    "test_set = testing.select('Class','Hemoglobin','Glucose')"
   ]
  },
  {
   "cell_type": "code",
   "execution_count": 16,
   "metadata": {},
   "outputs": [
    {
     "data": {
      "text/html": [
       "<table border=\"1\" class=\"dataframe\">\n",
       "    <thead>\n",
       "        <tr>\n",
       "            <th>Class</th> <th>Hemoglobin</th> <th>Glucose</th>\n",
       "        </tr>\n",
       "    </thead>\n",
       "    <tbody>\n",
       "        <tr>\n",
       "            <td>0    </td> <td>-0.0304002</td> <td>-0.700432 </td>\n",
       "        </tr>\n",
       "        <tr>\n",
       "            <td>0    </td> <td>1.43145   </td> <td>0.0101682 </td>\n",
       "        </tr>\n",
       "        <tr>\n",
       "            <td>0    </td> <td>0.0740178 </td> <td>-0.515058 </td>\n",
       "        </tr>\n",
       "        <tr>\n",
       "            <td>0    </td> <td>0.978974  </td> <td>-0.283341 </td>\n",
       "        </tr>\n",
       "        <tr>\n",
       "            <td>1    </td> <td>-1.87512  </td> <td>2.18831   </td>\n",
       "        </tr>\n",
       "        <tr>\n",
       "            <td>0    </td> <td>0.31766   </td> <td>-0.453267 </td>\n",
       "        </tr>\n",
       "        <tr>\n",
       "            <td>0    </td> <td>0.944168  </td> <td>-0.669536 </td>\n",
       "        </tr>\n",
       "        <tr>\n",
       "            <td>0    </td> <td>0.874556  </td> <td>-0.221549 </td>\n",
       "        </tr>\n",
       "        <tr>\n",
       "            <td>0    </td> <td>-0.0304002</td> <td>-0.49961  </td>\n",
       "        </tr>\n",
       "        <tr>\n",
       "            <td>0    </td> <td>-0.100012 </td> <td>-0.0207275</td>\n",
       "        </tr>\n",
       "    </tbody>\n",
       "</table>\n",
       "<p>... (69 rows omitted)</p>"
      ],
      "text/plain": [
       "Class | Hemoglobin | Glucose\n",
       "0     | -0.0304002 | -0.700432\n",
       "0     | 1.43145    | 0.0101682\n",
       "0     | 0.0740178  | -0.515058\n",
       "0     | 0.978974   | -0.283341\n",
       "1     | -1.87512   | 2.18831\n",
       "0     | 0.31766    | -0.453267\n",
       "0     | 0.944168   | -0.669536\n",
       "0     | 0.874556   | -0.221549\n",
       "0     | -0.0304002 | -0.49961\n",
       "0     | -0.100012  | -0.0207275\n",
       "... (69 rows omitted)"
      ]
     },
     "execution_count": 16,
     "metadata": {},
     "output_type": "execute_result"
    }
   ],
   "source": [
    "training_set"
   ]
  },
  {
   "cell_type": "code",
   "execution_count": 17,
   "metadata": {},
   "outputs": [
    {
     "data": {
      "text/html": [
       "<table border=\"1\" class=\"dataframe\">\n",
       "    <thead>\n",
       "        <tr>\n",
       "            <th>Class</th> <th>Hemoglobin</th> <th>Glucose</th>\n",
       "        </tr>\n",
       "    </thead>\n",
       "    <tbody>\n",
       "        <tr>\n",
       "            <td>0    </td> <td>1.153     </td> <td>-0.298788</td>\n",
       "        </tr>\n",
       "        <tr>\n",
       "            <td>0    </td> <td>0.874556  </td> <td>-0.746776</td>\n",
       "        </tr>\n",
       "        <tr>\n",
       "            <td>0    </td> <td>0.909362  </td> <td>-0.314236</td>\n",
       "        </tr>\n",
       "        <tr>\n",
       "            <td>0    </td> <td>0.700526  </td> <td>-0.406923</td>\n",
       "        </tr>\n",
       "        <tr>\n",
       "            <td>0    </td> <td>0.700526  </td> <td>-0.128862</td>\n",
       "        </tr>\n",
       "        <tr>\n",
       "            <td>0    </td> <td>0.978974  </td> <td>-0.870358</td>\n",
       "        </tr>\n",
       "        <tr>\n",
       "            <td>0    </td> <td>0.213242  </td> <td>-0.484162</td>\n",
       "        </tr>\n",
       "        <tr>\n",
       "            <td>0    </td> <td>-0.169624 </td> <td>-0.453267</td>\n",
       "        </tr>\n",
       "        <tr>\n",
       "            <td>0    </td> <td>-0.239236 </td> <td>-0.221549</td>\n",
       "        </tr>\n",
       "        <tr>\n",
       "            <td>0    </td> <td>0.0392118 </td> <td>-0.545954</td>\n",
       "        </tr>\n",
       "    </tbody>\n",
       "</table>\n",
       "<p>... (69 rows omitted)</p>"
      ],
      "text/plain": [
       "Class | Hemoglobin | Glucose\n",
       "0     | 1.153      | -0.298788\n",
       "0     | 0.874556   | -0.746776\n",
       "0     | 0.909362   | -0.314236\n",
       "0     | 0.700526   | -0.406923\n",
       "0     | 0.700526   | -0.128862\n",
       "0     | 0.978974   | -0.870358\n",
       "0     | 0.213242   | -0.484162\n",
       "0     | -0.169624  | -0.453267\n",
       "0     | -0.239236  | -0.221549\n",
       "0     | 0.0392118  | -0.545954\n",
       "... (69 rows omitted)"
      ]
     },
     "execution_count": 17,
     "metadata": {},
     "output_type": "execute_result"
    }
   ],
   "source": [
    "test_set"
   ]
  },
  {
   "cell_type": "code",
   "execution_count": 18,
   "metadata": {},
   "outputs": [
    {
     "data": {
      "text/html": [
       "<table border=\"1\" class=\"dataframe\">\n",
       "    <thead>\n",
       "        <tr>\n",
       "            <th>Hemoglobin</th> <th>Glucose</th>\n",
       "        </tr>\n",
       "    </thead>\n",
       "    <tbody>\n",
       "        <tr>\n",
       "            <td>-0.0304002</td> <td>-0.700432 </td>\n",
       "        </tr>\n",
       "        <tr>\n",
       "            <td>1.43145   </td> <td>0.0101682 </td>\n",
       "        </tr>\n",
       "        <tr>\n",
       "            <td>0.0740178 </td> <td>-0.515058 </td>\n",
       "        </tr>\n",
       "        <tr>\n",
       "            <td>0.978974  </td> <td>-0.283341 </td>\n",
       "        </tr>\n",
       "        <tr>\n",
       "            <td>-1.87512  </td> <td>2.18831   </td>\n",
       "        </tr>\n",
       "        <tr>\n",
       "            <td>0.31766   </td> <td>-0.453267 </td>\n",
       "        </tr>\n",
       "        <tr>\n",
       "            <td>0.944168  </td> <td>-0.669536 </td>\n",
       "        </tr>\n",
       "        <tr>\n",
       "            <td>0.874556  </td> <td>-0.221549 </td>\n",
       "        </tr>\n",
       "        <tr>\n",
       "            <td>-0.0304002</td> <td>-0.49961  </td>\n",
       "        </tr>\n",
       "        <tr>\n",
       "            <td>-0.100012 </td> <td>-0.0207275</td>\n",
       "        </tr>\n",
       "    </tbody>\n",
       "</table>\n",
       "<p>... (69 rows omitted)</p>"
      ],
      "text/plain": [
       "Hemoglobin | Glucose\n",
       "-0.0304002 | -0.700432\n",
       "1.43145    | 0.0101682\n",
       "0.0740178  | -0.515058\n",
       "0.978974   | -0.283341\n",
       "-1.87512   | 2.18831\n",
       "0.31766    | -0.453267\n",
       "0.944168   | -0.669536\n",
       "0.874556   | -0.221549\n",
       "-0.0304002 | -0.49961\n",
       "-0.100012  | -0.0207275\n",
       "... (69 rows omitted)"
      ]
     },
     "execution_count": 18,
     "metadata": {},
     "output_type": "execute_result"
    }
   ],
   "source": [
    "training_attributes = training.select('Hemoglobin', 'Glucose')\n",
    "training_attributes"
   ]
  },
  {
   "cell_type": "code",
   "execution_count": 19,
   "metadata": {},
   "outputs": [
    {
     "data": {
      "text/plain": [
       "array([0. , 1.1])"
      ]
     },
     "execution_count": 19,
     "metadata": {},
     "output_type": "execute_result"
    }
   ],
   "source": [
    "alice"
   ]
  },
  {
   "cell_type": "code",
   "execution_count": 20,
   "metadata": {},
   "outputs": [
    {
     "data": {
      "text/plain": [
       "array([ 0.97897356, -0.28334063])"
      ]
     },
     "execution_count": 20,
     "metadata": {},
     "output_type": "execute_result"
    }
   ],
   "source": [
    "patient3 = np.array(training_attributes.row(3))\n",
    "patient3"
   ]
  },
  {
   "cell_type": "code",
   "execution_count": 21,
   "metadata": {},
   "outputs": [],
   "source": [
    "def distance(point1, point2):\n",
    "    \"\"\"Returns the distance between point1 and point2\n",
    "    where each argument is an array \n",
    "    consisting of the coordinates of the point\"\"\"\n",
    "    return np.sqrt(np.sum((point1 - point2)**2))\n",
    "\n",
    "def all_distances(training, new_point):\n",
    "    \"\"\"Returns an array of distances\n",
    "    between each point in the training set\n",
    "    and the new point (which is a row of attributes)\"\"\"\n",
    "    attributes = training.drop('Class')\n",
    "    def distance_from_point(row):\n",
    "        return distance(np.array(new_point), np.array(row))\n",
    "    return attributes.apply(distance_from_point)\n",
    "\n",
    "def table_with_distances(training, new_point):\n",
    "    \"\"\"Augments the training table \n",
    "    with a column of distances from new_point\"\"\"\n",
    "    return training.with_column('Distance', all_distances(training, new_point))\n",
    "\n",
    "def closest(training, new_point, k):\n",
    "    \"\"\"Returns a table of the k rows of the augmented table\n",
    "    corresponding to the k smallest distances\"\"\"\n",
    "    with_dists = table_with_distances(training, new_point)\n",
    "    sorted_by_distance = with_dists.sort('Distance')\n",
    "    topk = sorted_by_distance.take(np.arange(k))\n",
    "    return topk\n",
    "\n",
    "def majority(topkclasses):\n",
    "    ones = topkclasses.where('Class', are.equal_to(1)).num_rows\n",
    "    zeros = topkclasses.where('Class', are.equal_to(0)).num_rows\n",
    "    if ones > zeros:\n",
    "        return 1\n",
    "    else:\n",
    "        return 0\n",
    "\n",
    "def classify(training, new_point, k):\n",
    "    closestk = closest(training, new_point, k)\n",
    "    topkclasses = closestk.select('Class')\n",
    "    return majority(topkclasses)"
   ]
  },
  {
   "cell_type": "code",
   "execution_count": 22,
   "metadata": {},
   "outputs": [
    {
     "data": {
      "text/plain": [
       "1.6947036688947956"
      ]
     },
     "execution_count": 22,
     "metadata": {},
     "output_type": "execute_result"
    }
   ],
   "source": [
    "distance(alice,patient3)"
   ]
  },
  {
   "cell_type": "code",
   "execution_count": 23,
   "metadata": {},
   "outputs": [
    {
     "data": {
      "text/html": [
       "<table border=\"1\" class=\"dataframe\">\n",
       "    <thead>\n",
       "        <tr>\n",
       "            <th>Hemoglobin</th> <th>Glucose</th> <th>Distance</th>\n",
       "        </tr>\n",
       "    </thead>\n",
       "    <tbody>\n",
       "        <tr>\n",
       "            <td>-0.970162 </td> <td>1.27689  </td> <td>0.986156</td>\n",
       "        </tr>\n",
       "        <tr>\n",
       "            <td>-0.0304002</td> <td>0.0874074</td> <td>1.01305 </td>\n",
       "        </tr>\n",
       "        <tr>\n",
       "            <td>0.14363   </td> <td>0.0874074</td> <td>1.02273 </td>\n",
       "        </tr>\n",
       "        <tr>\n",
       "            <td>-0.413266 </td> <td>2.04928  </td> <td>1.03534 </td>\n",
       "        </tr>\n",
       "        <tr>\n",
       "            <td>0.387272  </td> <td>0.118303 </td> <td>1.05532 </td>\n",
       "        </tr>\n",
       "    </tbody>\n",
       "</table>"
      ],
      "text/plain": [
       "Hemoglobin | Glucose   | Distance\n",
       "-0.970162  | 1.27689   | 0.986156\n",
       "-0.0304002 | 0.0874074 | 1.01305\n",
       "0.14363    | 0.0874074 | 1.02273\n",
       "-0.413266  | 2.04928   | 1.03534\n",
       "0.387272   | 0.118303  | 1.05532"
      ]
     },
     "execution_count": 23,
     "metadata": {},
     "output_type": "execute_result"
    }
   ],
   "source": [
    "closest(training_attributes, alice, 5)"
   ]
  },
  {
   "cell_type": "code",
   "execution_count": 24,
   "metadata": {},
   "outputs": [
    {
     "data": {
      "text/html": [
       "<table border=\"1\" class=\"dataframe\">\n",
       "    <thead>\n",
       "        <tr>\n",
       "            <th>Hemoglobin</th> <th>Glucose</th> <th>Distance</th>\n",
       "        </tr>\n",
       "    </thead>\n",
       "    <tbody>\n",
       "        <tr>\n",
       "            <td>0.978974  </td> <td>-0.283341 </td> <td>0       </td>\n",
       "        </tr>\n",
       "        <tr>\n",
       "            <td>0.874556  </td> <td>-0.221549 </td> <td>0.121331</td>\n",
       "        </tr>\n",
       "        <tr>\n",
       "            <td>0.978974  </td> <td>-0.0979666</td> <td>0.185374</td>\n",
       "        </tr>\n",
       "        <tr>\n",
       "            <td>1.08339   </td> <td>-0.0979666</td> <td>0.21276 </td>\n",
       "        </tr>\n",
       "        <tr>\n",
       "            <td>1.18781   </td> <td>-0.14431  </td> <td>0.250882</td>\n",
       "        </tr>\n",
       "    </tbody>\n",
       "</table>"
      ],
      "text/plain": [
       "Hemoglobin | Glucose    | Distance\n",
       "0.978974   | -0.283341  | 0\n",
       "0.874556   | -0.221549  | 0.121331\n",
       "0.978974   | -0.0979666 | 0.185374\n",
       "1.08339    | -0.0979666 | 0.21276\n",
       "1.18781    | -0.14431   | 0.250882"
      ]
     },
     "execution_count": 24,
     "metadata": {},
     "output_type": "execute_result"
    }
   ],
   "source": [
    "closest(training_attributes, patient3, 5)"
   ]
  },
  {
   "cell_type": "code",
   "execution_count": 25,
   "metadata": {},
   "outputs": [],
   "source": [
    "def count_zero(array):\n",
    "    \"\"\"Counts the number of 0's in an array\"\"\"\n",
    "    return len(array) - np.count_nonzero(array)\n",
    "\n",
    "def count_equal(array1, array2):\n",
    "    \"\"\"Takes two numerical arrays of equal length\n",
    "    and counts the indices where the two are equal\"\"\"\n",
    "    return count_zero(array1 - array2)\n",
    "\n",
    "def evaluate_accuracy(training, test, k):\n",
    "    test_attributes = test.drop('Class')\n",
    "    def classify_testrow(row):\n",
    "        return classify(training, row, k)\n",
    "    c = test_attributes.apply(classify_testrow)\n",
    "    return count_equal(c, test.column('Class')) / test.num_rows"
   ]
  },
  {
   "cell_type": "code",
   "execution_count": 26,
   "metadata": {},
   "outputs": [
    {
     "data": {
      "text/plain": [
       "0.9746835443037974"
      ]
     },
     "execution_count": 26,
     "metadata": {},
     "output_type": "execute_result"
    }
   ],
   "source": [
    "evaluate_accuracy(training_set, test_set, 5)"
   ]
  },
  {
   "cell_type": "code",
   "execution_count": null,
   "metadata": {},
   "outputs": [],
   "source": []
  }
 ],
 "metadata": {
  "kernelspec": {
   "display_name": "Python 3 (ipykernel)",
   "language": "python",
   "name": "python3"
  },
  "language_info": {
   "codemirror_mode": {
    "name": "ipython",
    "version": 3
   },
   "file_extension": ".py",
   "mimetype": "text/x-python",
   "name": "python",
   "nbconvert_exporter": "python",
   "pygments_lexer": "ipython3",
   "version": "3.9.7"
  }
 },
 "nbformat": 4,
 "nbformat_minor": 1
}
