{
 "cells": [
  {
   "cell_type": "code",
   "execution_count": 1,
   "metadata": {},
   "outputs": [],
   "source": [
    "# Stuff that will appear at the top of notebooks;\n",
    "# You don't have to understand how this works or change it for now.\n",
    "\n",
    "from datascience import *\n",
    "import numpy as np\n",
    "%matplotlib inline\n",
    "import matplotlib.pyplot as plots\n",
    "plots.style.use('fivethirtyeight')\n",
    "import warnings\n",
    "warnings.simplefilter(action=\"ignore\", category=FutureWarning)\n",
    "\n",
    "from urllib.request import urlopen \n",
    "import re\n",
    "def read_url(url): \n",
    "    return re.sub('\\\\s+', ' ', urlopen(url).read().decode())"
   ]
  },
  {
   "cell_type": "code",
   "execution_count": 2,
   "metadata": {},
   "outputs": [
    {
     "data": {
      "text/plain": [
       "5"
      ]
     },
     "execution_count": 2,
     "metadata": {},
     "output_type": "execute_result"
    }
   ],
   "source": [
    "2+3"
   ]
  },
  {
   "cell_type": "code",
   "execution_count": 3,
   "metadata": {},
   "outputs": [],
   "source": [
    "# Read two books, fast!\n",
    "\n",
    "#huck_finn_url = 'https://www.inferentialthinking.com/data/huck_finn.txt'\n",
    "#huck_finn_text = read_url(huck_finn_url)\n",
    "file = open(\"huck_finn.txt\",mode='r')\n",
    "huck_finn_text = file.read()\n",
    "file.close()\n",
    "huck_finn_chapters = huck_finn_text.split('CHAPTER ')[44:]\n",
    "\n",
    "#little_women_url = 'https://www.inferentialthinking.com/data/little_women.txt'\n",
    "#little_women_text = read_url(little_women_url)\n",
    "file = open(\"little_women.txt\",mode='r')\n",
    "little_women_text = file.read()\n",
    "file.close()\n",
    "little_women_chapters = little_women_text.split('CHAPTER ')[1:]"
   ]
  },
  {
   "cell_type": "code",
   "execution_count": 4,
   "metadata": {},
   "outputs": [],
   "source": [
    "#huck_finn_chapters"
   ]
  },
  {
   "cell_type": "code",
   "execution_count": 5,
   "metadata": {},
   "outputs": [],
   "source": [
    "#little_women_chapters"
   ]
  },
  {
   "cell_type": "code",
   "execution_count": 6,
   "metadata": {},
   "outputs": [
    {
     "data": {
      "text/html": [
       "<table border=\"1\" class=\"dataframe\">\n",
       "    <thead>\n",
       "        <tr>\n",
       "            <th>Chapters</th>\n",
       "        </tr>\n",
       "    </thead>\n",
       "    <tbody>\n",
       "        <tr>\n",
       "            <td>I.\n",
       "\n",
       "YOU don't know about me without you have read a book ...</td>\n",
       "        </tr>\n",
       "        <tr>\n",
       "            <td>II.\n",
       "\n",
       "WE went tiptoeing along a path amongst the trees ba ...</td>\n",
       "        </tr>\n",
       "        <tr>\n",
       "            <td>III.\n",
       "\n",
       "WELL, I got a good going-over in the morning from  ...</td>\n",
       "        </tr>\n",
       "        <tr>\n",
       "            <td>IV.\n",
       "\n",
       "WELL, three or four months run along, and it was we ...</td>\n",
       "        </tr>\n",
       "        <tr>\n",
       "            <td>V.\n",
       "\n",
       "I had shut the door to. Â Then I turned around and t ...</td>\n",
       "        </tr>\n",
       "        <tr>\n",
       "            <td>VI.\n",
       "\n",
       "WELL, pretty soon the old man was up and around aga ...</td>\n",
       "        </tr>\n",
       "        <tr>\n",
       "            <td>VII.\n",
       "\n",
       "\"GIT up! Â What you 'bout?\"\n",
       "\n",
       "I opened my eyes and  ...</td>\n",
       "        </tr>\n",
       "        <tr>\n",
       "            <td>VIII.\n",
       "\n",
       "THE sun was up so high when I waked that I judged ...</td>\n",
       "        </tr>\n",
       "        <tr>\n",
       "            <td>IX.\n",
       "\n",
       "I wanted to go and look at a place right about the  ...</td>\n",
       "        </tr>\n",
       "        <tr>\n",
       "            <td>X.\n",
       "\n",
       "AFTER breakfast I wanted to talk about the dead man  ...</td>\n",
       "        </tr>\n",
       "    </tbody>\n",
       "</table>\n",
       "<p>... (33 rows omitted)</p>"
      ],
      "text/plain": [
       "Chapters\n",
       "I.\n",
       "\n",
       "YOU don't know about me without you have read a book ...\n",
       "II.\n",
       "\n",
       "WE went tiptoeing along a path amongst the trees ba ...\n",
       "III.\n",
       "\n",
       "WELL, I got a good going-over in the morning from  ...\n",
       "IV.\n",
       "\n",
       "WELL, three or four months run along, and it was we ...\n",
       "V.\n",
       "\n",
       "I had shut the door to. Â Then I turned around and t ...\n",
       "VI.\n",
       "\n",
       "WELL, pretty soon the old man was up and around aga ...\n",
       "VII.\n",
       "\n",
       "\"GIT up! Â What you 'bout?\"\n",
       "\n",
       "I opened my eyes and  ...\n",
       "VIII.\n",
       "\n",
       "THE sun was up so high when I waked that I judged ...\n",
       "IX.\n",
       "\n",
       "I wanted to go and look at a place right about the  ...\n",
       "X.\n",
       "\n",
       "AFTER breakfast I wanted to talk about the dead man  ...\n",
       "... (33 rows omitted)"
      ]
     },
     "execution_count": 6,
     "metadata": {},
     "output_type": "execute_result"
    }
   ],
   "source": [
    "Table().with_column('Chapters', huck_finn_chapters)"
   ]
  },
  {
   "cell_type": "code",
   "execution_count": 7,
   "metadata": {},
   "outputs": [
    {
     "data": {
      "text/plain": [
       "array([ 6, 24,  5,  0,  0,  0,  2,  2,  0,  0,  2,  3,  1,  0,  0,  0,  3,\n",
       "        5,  0,  0,  0,  0,  0,  0,  0,  0,  0,  1,  0,  0,  1,  4, 19, 15,\n",
       "       14, 18,  9, 32, 11, 11,  8, 30,  6])"
      ]
     },
     "execution_count": 7,
     "metadata": {},
     "output_type": "execute_result"
    }
   ],
   "source": [
    "np.char.count(huck_finn_chapters, 'Tom')"
   ]
  },
  {
   "cell_type": "code",
   "execution_count": 8,
   "metadata": {},
   "outputs": [
    {
     "data": {
      "text/plain": [
       "array([ 0, 16,  0,  8,  0,  0,  0, 22, 11, 19,  4, 20,  9,  6, 16, 28,  0,\n",
       "       10, 13, 18,  1,  0,  9,  5,  0,  0,  0,  1,  3,  5, 17,  0,  5, 17,\n",
       "       18, 23,  4, 27, 10, 13,  0, 12,  6])"
      ]
     },
     "execution_count": 8,
     "metadata": {},
     "output_type": "execute_result"
    }
   ],
   "source": [
    "np.char.count(huck_finn_chapters, 'Jim')"
   ]
  },
  {
   "cell_type": "code",
   "execution_count": 9,
   "metadata": {},
   "outputs": [
    {
     "data": {
      "text/html": [
       "<table border=\"1\" class=\"dataframe\">\n",
       "    <thead>\n",
       "        <tr>\n",
       "            <th>Tom</th> <th>Jim</th> <th>Huck</th>\n",
       "        </tr>\n",
       "    </thead>\n",
       "    <tbody>\n",
       "        <tr>\n",
       "            <td>6   </td> <td>0   </td> <td>3   </td>\n",
       "        </tr>\n",
       "        <tr>\n",
       "            <td>24  </td> <td>16  </td> <td>2   </td>\n",
       "        </tr>\n",
       "        <tr>\n",
       "            <td>5   </td> <td>0   </td> <td>2   </td>\n",
       "        </tr>\n",
       "        <tr>\n",
       "            <td>0   </td> <td>8   </td> <td>1   </td>\n",
       "        </tr>\n",
       "        <tr>\n",
       "            <td>0   </td> <td>0   </td> <td>0   </td>\n",
       "        </tr>\n",
       "        <tr>\n",
       "            <td>0   </td> <td>0   </td> <td>2   </td>\n",
       "        </tr>\n",
       "        <tr>\n",
       "            <td>2   </td> <td>0   </td> <td>0   </td>\n",
       "        </tr>\n",
       "        <tr>\n",
       "            <td>2   </td> <td>22  </td> <td>5   </td>\n",
       "        </tr>\n",
       "        <tr>\n",
       "            <td>0   </td> <td>11  </td> <td>1   </td>\n",
       "        </tr>\n",
       "        <tr>\n",
       "            <td>0   </td> <td>19  </td> <td>0   </td>\n",
       "        </tr>\n",
       "    </tbody>\n",
       "</table>\n",
       "<p>... (33 rows omitted)</p>"
      ],
      "text/plain": [
       "Tom  | Jim  | Huck\n",
       "6    | 0    | 3\n",
       "24   | 16   | 2\n",
       "5    | 0    | 2\n",
       "0    | 8    | 1\n",
       "0    | 0    | 0\n",
       "0    | 0    | 2\n",
       "2    | 0    | 0\n",
       "2    | 22   | 5\n",
       "0    | 11   | 1\n",
       "0    | 19   | 0\n",
       "... (33 rows omitted)"
      ]
     },
     "execution_count": 9,
     "metadata": {},
     "output_type": "execute_result"
    }
   ],
   "source": [
    "counts = Table().with_columns([\n",
    "    'Tom', np.char.count(huck_finn_chapters, 'Tom'),\n",
    "    'Jim', np.char.count(huck_finn_chapters, 'Jim'),\n",
    "    'Huck', np.char.count(huck_finn_chapters, 'Huck'),\n",
    "])\n",
    "counts"
   ]
  },
  {
   "cell_type": "code",
   "execution_count": 10,
   "metadata": {},
   "outputs": [],
   "source": [
    "#following code fails because cumsum is no longer function in datascience\n",
    "\n",
    "#cum_counts = counts.cumsum().with_column('Chapter', np.arange(1, 44, 1))\n",
    "#cum_counts.plot(column_for_xticks=3)\n",
    "#plots.title('Cumulative Number of Times Name Appears');\n"
   ]
  },
  {
   "cell_type": "code",
   "execution_count": 11,
   "metadata": {},
   "outputs": [],
   "source": [
    "#however, can do the following (although there are more clever ways)"
   ]
  },
  {
   "cell_type": "code",
   "execution_count": 12,
   "metadata": {},
   "outputs": [
    {
     "data": {
      "text/plain": [
       "array([  6,  30,  35,  35,  35,  35,  37,  39,  39,  39,  41,  44,  45,\n",
       "        45,  45,  45,  48,  53,  53,  53,  53,  53,  53,  53,  53,  53,\n",
       "        53,  54,  54,  54,  55,  59,  78,  93, 107, 125, 134, 166, 177,\n",
       "       188, 196, 226, 232], dtype=int32)"
      ]
     },
     "execution_count": 12,
     "metadata": {},
     "output_type": "execute_result"
    }
   ],
   "source": [
    "np.cumsum(np.char.count(huck_finn_chapters, 'Tom'))"
   ]
  },
  {
   "cell_type": "code",
   "execution_count": 13,
   "metadata": {},
   "outputs": [
    {
     "data": {
      "text/html": [
       "<table border=\"1\" class=\"dataframe\">\n",
       "    <thead>\n",
       "        <tr>\n",
       "            <th>Tom</th> <th>Jim</th> <th>Huck</th>\n",
       "        </tr>\n",
       "    </thead>\n",
       "    <tbody>\n",
       "        <tr>\n",
       "            <td>6   </td> <td>0   </td> <td>3   </td>\n",
       "        </tr>\n",
       "        <tr>\n",
       "            <td>30  </td> <td>16  </td> <td>5   </td>\n",
       "        </tr>\n",
       "        <tr>\n",
       "            <td>35  </td> <td>16  </td> <td>7   </td>\n",
       "        </tr>\n",
       "        <tr>\n",
       "            <td>35  </td> <td>24  </td> <td>8   </td>\n",
       "        </tr>\n",
       "        <tr>\n",
       "            <td>35  </td> <td>24  </td> <td>8   </td>\n",
       "        </tr>\n",
       "        <tr>\n",
       "            <td>35  </td> <td>24  </td> <td>10  </td>\n",
       "        </tr>\n",
       "        <tr>\n",
       "            <td>37  </td> <td>24  </td> <td>10  </td>\n",
       "        </tr>\n",
       "        <tr>\n",
       "            <td>39  </td> <td>46  </td> <td>15  </td>\n",
       "        </tr>\n",
       "        <tr>\n",
       "            <td>39  </td> <td>57  </td> <td>16  </td>\n",
       "        </tr>\n",
       "        <tr>\n",
       "            <td>39  </td> <td>76  </td> <td>16  </td>\n",
       "        </tr>\n",
       "    </tbody>\n",
       "</table>\n",
       "<p>... (33 rows omitted)</p>"
      ],
      "text/plain": [
       "Tom  | Jim  | Huck\n",
       "6    | 0    | 3\n",
       "30   | 16   | 5\n",
       "35   | 16   | 7\n",
       "35   | 24   | 8\n",
       "35   | 24   | 8\n",
       "35   | 24   | 10\n",
       "37   | 24   | 10\n",
       "39   | 46   | 15\n",
       "39   | 57   | 16\n",
       "39   | 76   | 16\n",
       "... (33 rows omitted)"
      ]
     },
     "execution_count": 13,
     "metadata": {},
     "output_type": "execute_result"
    }
   ],
   "source": [
    "cumcounts = Table().with_columns([\n",
    "    'Tom', np.cumsum(np.char.count(huck_finn_chapters, 'Tom')),\n",
    "    'Jim', np.cumsum(np.char.count(huck_finn_chapters, 'Jim')),\n",
    "    'Huck', np.cumsum(np.char.count(huck_finn_chapters, 'Huck')),\n",
    "])\n",
    "cumcounts"
   ]
  },
  {
   "cell_type": "code",
   "execution_count": 14,
   "metadata": {},
   "outputs": [
    {
     "data": {
      "image/png": "[encoded data removed]",
      "text/plain": [
       "<Figure size 432x432 with 1 Axes>"
      ]
     },
     "metadata": {},
     "output_type": "display_data"
    }
   ],
   "source": [
    "cumcounts.plot()\n",
    "plots.title('Cumulative Number of Times Name Appears');"
   ]
  },
  {
   "cell_type": "code",
   "execution_count": 15,
   "metadata": {},
   "outputs": [
    {
     "data": {
      "text/html": [
       "<table border=\"1\" class=\"dataframe\">\n",
       "    <thead>\n",
       "        <tr>\n",
       "            <th>Chapters</th>\n",
       "        </tr>\n",
       "    </thead>\n",
       "    <tbody>\n",
       "        <tr>\n",
       "            <td>ONE\n",
       "\n",
       "PLAYING PILGRIMS\n",
       "\n",
       "\"Christmas won't be Christmas wit ...</td>\n",
       "        </tr>\n",
       "        <tr>\n",
       "            <td>TWO\n",
       "\n",
       "A MERRY CHRISTMAS\n",
       "\n",
       "Jo was the first to wake in the  ...</td>\n",
       "        </tr>\n",
       "        <tr>\n",
       "            <td>THREE\n",
       "\n",
       "THE LAURENCE BOY\n",
       "\n",
       "\"Jo!  Jo!  Where are you?\" crie ...</td>\n",
       "        </tr>\n",
       "        <tr>\n",
       "            <td>FOUR\n",
       "\n",
       "BURDENS\n",
       "\n",
       "\"Oh, dear, how hard it does seem to take  ...</td>\n",
       "        </tr>\n",
       "        <tr>\n",
       "            <td>FIVE\n",
       "\n",
       "BEING NEIGHBORLY\n",
       "\n",
       "\"What in the world are you going ...</td>\n",
       "        </tr>\n",
       "        <tr>\n",
       "            <td>SIX\n",
       "\n",
       "BETH FINDS THE PALACE BEAUTIFUL\n",
       "\n",
       "The big house did  ...</td>\n",
       "        </tr>\n",
       "        <tr>\n",
       "            <td>SEVEN\n",
       "\n",
       "AMY'S VALLEY OF HUMILIATION\n",
       "\n",
       "\"That boy is a perfe ...</td>\n",
       "        </tr>\n",
       "        <tr>\n",
       "            <td>EIGHT\n",
       "\n",
       "JO MEETS APOLLYON\n",
       "\n",
       "\"Girls, where are you going?\"  ...</td>\n",
       "        </tr>\n",
       "        <tr>\n",
       "            <td>NINE\n",
       "\n",
       "MEG GOES TO VANITY FAIR\n",
       "\n",
       "\"I do think it was the mo ...</td>\n",
       "        </tr>\n",
       "        <tr>\n",
       "            <td>TEN\n",
       "\n",
       "THE P.C. AND P.O.\n",
       "\n",
       "As spring came on, a new set of  ...</td>\n",
       "        </tr>\n",
       "    </tbody>\n",
       "</table>\n",
       "<p>... (37 rows omitted)</p>"
      ],
      "text/plain": [
       "Chapters\n",
       "ONE\n",
       "\n",
       "PLAYING PILGRIMS\n",
       "\n",
       "\"Christmas won't be Christmas wit ...\n",
       "TWO\n",
       "\n",
       "A MERRY CHRISTMAS\n",
       "\n",
       "Jo was the first to wake in the  ...\n",
       "THREE\n",
       "\n",
       "THE LAURENCE BOY\n",
       "\n",
       "\"Jo!  Jo!  Where are you?\" crie ...\n",
       "FOUR\n",
       "\n",
       "BURDENS\n",
       "\n",
       "\"Oh, dear, how hard it does seem to take  ...\n",
       "FIVE\n",
       "\n",
       "BEING NEIGHBORLY\n",
       "\n",
       "\"What in the world are you going ...\n",
       "SIX\n",
       "\n",
       "BETH FINDS THE PALACE BEAUTIFUL\n",
       "\n",
       "The big house did  ...\n",
       "SEVEN\n",
       "\n",
       "AMY'S VALLEY OF HUMILIATION\n",
       "\n",
       "\"That boy is a perfe ...\n",
       "EIGHT\n",
       "\n",
       "JO MEETS APOLLYON\n",
       "\n",
       "\"Girls, where are you going?\"  ...\n",
       "NINE\n",
       "\n",
       "MEG GOES TO VANITY FAIR\n",
       "\n",
       "\"I do think it was the mo ...\n",
       "TEN\n",
       "\n",
       "THE P.C. AND P.O.\n",
       "\n",
       "As spring came on, a new set of  ...\n",
       "... (37 rows omitted)"
      ]
     },
     "execution_count": 15,
     "metadata": {},
     "output_type": "execute_result"
    }
   ],
   "source": [
    "# The chapters of Little Women\n",
    "\n",
    "Table().with_column('Chapters', little_women_chapters)"
   ]
  },
  {
   "cell_type": "code",
   "execution_count": 16,
   "metadata": {},
   "outputs": [],
   "source": [
    "# Counts of names in the chapters of Little Women\n",
    "\n",
    "people = ['Amy', 'Beth', 'Jo', 'Laurie', 'Meg']\n",
    "people_counts = {pp: np.char.count(little_women_chapters, pp) for pp in people}\n",
    "\n",
    "counts = Table().with_columns([\n",
    "        'Amy', people_counts['Amy'],\n",
    "        'Beth', people_counts['Beth'],\n",
    "        'Jo', people_counts['Jo'],\n",
    "        'Laurie', people_counts['Laurie'],\n",
    "        'Meg', people_counts['Meg']\n",
    "    ])"
   ]
  },
  {
   "cell_type": "code",
   "execution_count": 17,
   "metadata": {},
   "outputs": [
    {
     "data": {
      "text/html": [
       "<table border=\"1\" class=\"dataframe\">\n",
       "    <thead>\n",
       "        <tr>\n",
       "            <th>Amy</th> <th>Beth</th> <th>Jo</th> <th>Laurie</th> <th>Meg</th>\n",
       "        </tr>\n",
       "    </thead>\n",
       "    <tbody>\n",
       "        <tr>\n",
       "            <td>23  </td> <td>26  </td> <td>44  </td> <td>0     </td> <td>26  </td>\n",
       "        </tr>\n",
       "        <tr>\n",
       "            <td>13  </td> <td>12  </td> <td>21  </td> <td>0     </td> <td>20  </td>\n",
       "        </tr>\n",
       "        <tr>\n",
       "            <td>2   </td> <td>2   </td> <td>62  </td> <td>16    </td> <td>36  </td>\n",
       "        </tr>\n",
       "        <tr>\n",
       "            <td>14  </td> <td>18  </td> <td>34  </td> <td>0     </td> <td>17  </td>\n",
       "        </tr>\n",
       "        <tr>\n",
       "            <td>6   </td> <td>14  </td> <td>55  </td> <td>35    </td> <td>13  </td>\n",
       "        </tr>\n",
       "        <tr>\n",
       "            <td>6   </td> <td>28  </td> <td>13  </td> <td>9     </td> <td>5   </td>\n",
       "        </tr>\n",
       "        <tr>\n",
       "            <td>27  </td> <td>5   </td> <td>9   </td> <td>7     </td> <td>5   </td>\n",
       "        </tr>\n",
       "        <tr>\n",
       "            <td>48  </td> <td>9   </td> <td>71  </td> <td>17    </td> <td>16  </td>\n",
       "        </tr>\n",
       "        <tr>\n",
       "            <td>3   </td> <td>5   </td> <td>21  </td> <td>24    </td> <td>71  </td>\n",
       "        </tr>\n",
       "        <tr>\n",
       "            <td>5   </td> <td>5   </td> <td>12  </td> <td>4     </td> <td>4   </td>\n",
       "        </tr>\n",
       "    </tbody>\n",
       "</table>\n",
       "<p>... (37 rows omitted)</p>"
      ],
      "text/plain": [
       "Amy  | Beth | Jo   | Laurie | Meg\n",
       "23   | 26   | 44   | 0      | 26\n",
       "13   | 12   | 21   | 0      | 20\n",
       "2    | 2    | 62   | 16     | 36\n",
       "14   | 18   | 34   | 0      | 17\n",
       "6    | 14   | 55   | 35     | 13\n",
       "6    | 28   | 13   | 9      | 5\n",
       "27   | 5    | 9    | 7      | 5\n",
       "48   | 9    | 71   | 17     | 16\n",
       "3    | 5    | 21   | 24     | 71\n",
       "5    | 5    | 12   | 4      | 4\n",
       "... (37 rows omitted)"
      ]
     },
     "execution_count": 17,
     "metadata": {},
     "output_type": "execute_result"
    }
   ],
   "source": [
    "counts"
   ]
  },
  {
   "cell_type": "code",
   "execution_count": 18,
   "metadata": {},
   "outputs": [],
   "source": [
    "#again, followig code fails since cumsum is no longer function in datascience\n",
    "\n",
    "#cum_counts = counts.cumsum().with_column('Chapter', np.arange(1, 48, 1))\n",
    "#cum_counts.plot(column_for_xticks=5)\n",
    "#plots.title('Cumulative Number of Times Name Appears');"
   ]
  },
  {
   "cell_type": "code",
   "execution_count": 19,
   "metadata": {},
   "outputs": [],
   "source": [
    "# In each chapter, count the number of all characters;\n",
    "# call this the \"length\" of the chapter.\n",
    "# Also count the number of periods.\n",
    "\n",
    "chars_periods_hf = Table().with_columns([\n",
    "        'HF Chapter Length', [len(s) for s in huck_finn_chapters],\n",
    "        'Number of Periods', np.char.count(huck_finn_chapters, '.')\n",
    "    ])\n",
    "chars_periods_lw = Table().with_columns([\n",
    "        'LW Chapter Length', [len(s) for s in little_women_chapters],\n",
    "        'Number of Periods', np.char.count(little_women_chapters, '.')\n",
    "    ])"
   ]
  },
  {
   "cell_type": "code",
   "execution_count": 20,
   "metadata": {},
   "outputs": [
    {
     "data": {
      "text/html": [
       "<table border=\"1\" class=\"dataframe\">\n",
       "    <thead>\n",
       "        <tr>\n",
       "            <th>HF Chapter Length</th> <th>Number of Periods</th>\n",
       "        </tr>\n",
       "    </thead>\n",
       "    <tbody>\n",
       "        <tr>\n",
       "            <td>7137             </td> <td>66               </td>\n",
       "        </tr>\n",
       "        <tr>\n",
       "            <td>12198            </td> <td>117              </td>\n",
       "        </tr>\n",
       "        <tr>\n",
       "            <td>8674             </td> <td>72               </td>\n",
       "        </tr>\n",
       "        <tr>\n",
       "            <td>6957             </td> <td>84               </td>\n",
       "        </tr>\n",
       "        <tr>\n",
       "            <td>8333             </td> <td>91               </td>\n",
       "        </tr>\n",
       "        <tr>\n",
       "            <td>14772            </td> <td>125              </td>\n",
       "        </tr>\n",
       "        <tr>\n",
       "            <td>13446            </td> <td>127              </td>\n",
       "        </tr>\n",
       "        <tr>\n",
       "            <td>22668            </td> <td>249              </td>\n",
       "        </tr>\n",
       "        <tr>\n",
       "            <td>8200             </td> <td>71               </td>\n",
       "        </tr>\n",
       "        <tr>\n",
       "            <td>7165             </td> <td>70               </td>\n",
       "        </tr>\n",
       "    </tbody>\n",
       "</table>\n",
       "<p>... (33 rows omitted)</p>"
      ],
      "text/plain": [
       "HF Chapter Length | Number of Periods\n",
       "7137              | 66\n",
       "12198             | 117\n",
       "8674              | 72\n",
       "6957              | 84\n",
       "8333              | 91\n",
       "14772             | 125\n",
       "13446             | 127\n",
       "22668             | 249\n",
       "8200              | 71\n",
       "7165              | 70\n",
       "... (33 rows omitted)"
      ]
     },
     "execution_count": 20,
     "metadata": {},
     "output_type": "execute_result"
    }
   ],
   "source": [
    "# The counts for Huckleberry Finn\n",
    "\n",
    "chars_periods_hf"
   ]
  },
  {
   "cell_type": "code",
   "execution_count": 21,
   "metadata": {},
   "outputs": [
    {
     "data": {
      "text/html": [
       "<table border=\"1\" class=\"dataframe\">\n",
       "    <thead>\n",
       "        <tr>\n",
       "            <th>LW Chapter Length</th> <th>Number of Periods</th>\n",
       "        </tr>\n",
       "    </thead>\n",
       "    <tbody>\n",
       "        <tr>\n",
       "            <td>21952            </td> <td>189              </td>\n",
       "        </tr>\n",
       "        <tr>\n",
       "            <td>22384            </td> <td>188              </td>\n",
       "        </tr>\n",
       "        <tr>\n",
       "            <td>20815            </td> <td>231              </td>\n",
       "        </tr>\n",
       "        <tr>\n",
       "            <td>25689            </td> <td>195              </td>\n",
       "        </tr>\n",
       "        <tr>\n",
       "            <td>23657            </td> <td>255              </td>\n",
       "        </tr>\n",
       "        <tr>\n",
       "            <td>14736            </td> <td>140              </td>\n",
       "        </tr>\n",
       "        <tr>\n",
       "            <td>14549            </td> <td>131              </td>\n",
       "        </tr>\n",
       "        <tr>\n",
       "            <td>22679            </td> <td>214              </td>\n",
       "        </tr>\n",
       "        <tr>\n",
       "            <td>34054            </td> <td>337              </td>\n",
       "        </tr>\n",
       "        <tr>\n",
       "            <td>19657            </td> <td>185              </td>\n",
       "        </tr>\n",
       "    </tbody>\n",
       "</table>\n",
       "<p>... (37 rows omitted)</p>"
      ],
      "text/plain": [
       "LW Chapter Length | Number of Periods\n",
       "21952             | 189\n",
       "22384             | 188\n",
       "20815             | 231\n",
       "25689             | 195\n",
       "23657             | 255\n",
       "14736             | 140\n",
       "14549             | 131\n",
       "22679             | 214\n",
       "34054             | 337\n",
       "19657             | 185\n",
       "... (37 rows omitted)"
      ]
     },
     "execution_count": 21,
     "metadata": {},
     "output_type": "execute_result"
    }
   ],
   "source": [
    "# The counts for Little Women\n",
    "\n",
    "chars_periods_lw"
   ]
  },
  {
   "cell_type": "code",
   "execution_count": 22,
   "metadata": {},
   "outputs": [
    {
     "data": {
      "image/png": "[encoded data removed]",
      "text/plain": [
       "<Figure size 720x720 with 1 Axes>"
      ]
     },
     "metadata": {},
     "output_type": "display_data"
    }
   ],
   "source": [
    "plots.figure(figsize=(10,10))\n",
    "plots.scatter(chars_periods_hf[1], chars_periods_hf[0], color='darkblue')\n",
    "plots.scatter(chars_periods_lw[1], chars_periods_lw[0], color='gold')\n",
    "plots.xlabel('Number of periods in chapter')\n",
    "plots.ylabel('Number of characters in chapter');"
   ]
  },
  {
   "cell_type": "code",
   "execution_count": null,
   "metadata": {},
   "outputs": [],
   "source": []
  },
  {
   "cell_type": "code",
   "execution_count": null,
   "metadata": {},
   "outputs": [],
   "source": []
  }
 ],
 "metadata": {
  "anaconda-cloud": {},
  "celltoolbar": "Raw Cell Format",
  "kernelspec": {
   "display_name": "Python 3 (ipykernel)",
   "language": "python",
   "name": "python3"
  },
  "language_info": {
   "codemirror_mode": {
    "name": "ipython",
    "version": 3
   },
   "file_extension": ".py",
   "mimetype": "text/x-python",
   "name": "python",
   "nbconvert_exporter": "python",
   "pygments_lexer": "ipython3",
   "version": "3.9.12"
  }
 },
 "nbformat": 4,
 "nbformat_minor": 1
}
