{
 "cells": [
  {
   "cell_type": "code",
   "execution_count": 3,
   "metadata": {},
   "outputs": [],
   "source": [
    "from datascience import *\n",
    "%matplotlib inline\n",
    "import matplotlib.pyplot as plots\n",
    "plots.style.use('fivethirtyeight')\n",
    "import numpy as np"
   ]
  },
  {
   "cell_type": "markdown",
   "metadata": {},
   "source": [
    "## Lecture 23 ##"
   ]
  },
  {
   "cell_type": "markdown",
   "metadata": {},
   "source": [
    "### Percentiles"
   ]
  },
  {
   "cell_type": "code",
   "execution_count": 4,
   "metadata": {},
   "outputs": [
    {
     "data": {
      "text/plain": [
       "array([ 7, 20, 28, 34, 43, 51], dtype=int64)"
      ]
     },
     "execution_count": 4,
     "metadata": {},
     "output_type": "execute_result"
    }
   ],
   "source": [
    "x = make_array(43, 20, 51, 7, 28, 34)\n",
    "y = np.sort(x)\n",
    "y"
   ]
  },
  {
   "cell_type": "code",
   "execution_count": 5,
   "metadata": {},
   "outputs": [
    {
     "data": {
      "text/plain": [
       "3.3000000000000003"
      ]
     },
     "execution_count": 5,
     "metadata": {},
     "output_type": "execute_result"
    }
   ],
   "source": [
    "0.55 * 6"
   ]
  },
  {
   "cell_type": "code",
   "execution_count": 6,
   "metadata": {},
   "outputs": [
    {
     "data": {
      "text/plain": [
       "34"
      ]
     },
     "execution_count": 6,
     "metadata": {},
     "output_type": "execute_result"
    }
   ],
   "source": [
    "percentile(55, x)"
   ]
  },
  {
   "cell_type": "markdown",
   "metadata": {},
   "source": [
    "### Bootstrap"
   ]
  },
  {
   "cell_type": "code",
   "execution_count": 7,
   "metadata": {},
   "outputs": [],
   "source": [
    "sf = Table.read_table('san_francisco_2015.csv')"
   ]
  },
  {
   "cell_type": "code",
   "execution_count": 8,
   "metadata": {},
   "outputs": [
    {
     "data": {
      "text/html": [
       "<table border=\"1\" class=\"dataframe\">\n",
       "    <thead>\n",
       "        <tr>\n",
       "            <th>Year Type</th> <th>Year</th> <th>Organization Group Code</th> <th>Organization Group</th> <th>Department Code</th> <th>Department</th> <th>Union Code</th> <th>Union</th> <th>Job Family Code</th> <th>Job Family</th> <th>Job Code</th> <th>Job</th> <th>Employee Identifier</th> <th>Salaries</th> <th>Overtime</th> <th>Other Salaries</th> <th>Total Salary</th> <th>Retirement</th> <th>Health/Dental</th> <th>Other Benefits</th> <th>Total Benefits</th> <th>Total Compensation</th>\n",
       "        </tr>\n",
       "    </thead>\n",
       "    <tbody>\n",
       "        <tr>\n",
       "            <td>Calendar </td> <td>2015</td> <td>6                      </td> <td>General Administration & Finance</td> <td>MYR            </td> <td>Mayor     </td> <td>556       </td> <td>Elected Officials</td> <td>1100           </td> <td>Administrative & Mgmt (Unrep)</td> <td>1190    </td> <td>Mayor</td> <td>22433              </td> <td>288964  </td> <td>0       </td> <td>0             </td> <td>288964      </td> <td>58117     </td> <td>12424.5      </td> <td>20293         </td> <td>90834.5       </td> <td>379798            </td>\n",
       "        </tr>\n",
       "    </tbody>\n",
       "</table>"
      ],
      "text/plain": [
       "Year Type | Year | Organization Group Code | Organization Group               | Department Code | Department | Union Code | Union             | Job Family Code | Job Family                    | Job Code | Job   | Employee Identifier | Salaries | Overtime | Other Salaries | Total Salary | Retirement | Health/Dental | Other Benefits | Total Benefits | Total Compensation\n",
       "Calendar  | 2015 | 6                       | General Administration & Finance | MYR             | Mayor      | 556        | Elected Officials | 1100            | Administrative & Mgmt (Unrep) | 1190     | Mayor | 22433               | 288964   | 0        | 0              | 288964       | 58117      | 12424.5       | 20293          | 90834.5        | 379798"
      ]
     },
     "execution_count": 8,
     "metadata": {},
     "output_type": "execute_result"
    }
   ],
   "source": [
    "sf.where('Job', 'Mayor')"
   ]
  },
  {
   "cell_type": "code",
   "execution_count": 11,
   "metadata": {},
   "outputs": [
    {
     "data": {
      "text/plain": [
       "10400"
      ]
     },
     "execution_count": 11,
     "metadata": {},
     "output_type": "execute_result"
    }
   ],
   "source": [
    "10 * 20 * 52   # hours threshold for part time"
   ]
  },
  {
   "cell_type": "code",
   "execution_count": 12,
   "metadata": {},
   "outputs": [],
   "source": [
    "sf = sf.where('Total Compensation', are.above(10000))"
   ]
  },
  {
   "cell_type": "code",
   "execution_count": 13,
   "metadata": {},
   "outputs": [
    {
     "data": {
      "text/plain": [
       "38217"
      ]
     },
     "execution_count": 13,
     "metadata": {},
     "output_type": "execute_result"
    }
   ],
   "source": [
    "sf.num_rows"
   ]
  },
  {
   "cell_type": "code",
   "execution_count": 14,
   "metadata": {},
   "outputs": [
    {
     "data": {
      "text/plain": [
       "107219.48"
      ]
     },
     "execution_count": 14,
     "metadata": {},
     "output_type": "execute_result"
    }
   ],
   "source": [
    "percentile(50, sf.column('Total Compensation'))"
   ]
  },
  {
   "cell_type": "code",
   "execution_count": 15,
   "metadata": {},
   "outputs": [
    {
     "data": {
      "text/html": [
       "<table border=\"1\" class=\"dataframe\">\n",
       "    <thead>\n",
       "        <tr>\n",
       "            <th>Year Type</th> <th>Year</th> <th>Organization Group Code</th> <th>Organization Group</th> <th>Department Code</th> <th>Department</th> <th>Union Code</th> <th>Union</th> <th>Job Family Code</th> <th>Job Family</th> <th>Job Code</th> <th>Job</th> <th>Employee Identifier</th> <th>Salaries</th> <th>Overtime</th> <th>Other Salaries</th> <th>Total Salary</th> <th>Retirement</th> <th>Health/Dental</th> <th>Other Benefits</th> <th>Total Benefits</th> <th>Total Compensation</th>\n",
       "        </tr>\n",
       "    </thead>\n",
       "    <tbody>\n",
       "        <tr>\n",
       "            <td>Calendar </td> <td>2015</td> <td>4                      </td> <td>Community Health                       </td> <td>DPH            </td> <td>Public Health                       </td> <td>250       </td> <td>SEIU - Health Workers, Local 1021                 </td> <td>2300           </td> <td>Nursing                   </td> <td>2303    </td> <td>Patient Care Assistant  </td> <td>16511              </td> <td>69968.1 </td> <td>5913.85 </td> <td>4151.88       </td> <td>80033.8     </td> <td>14564.8   </td> <td>12375.2      </td> <td>6329.35       </td> <td>33269.4       </td> <td>113303            </td>\n",
       "        </tr>\n",
       "        <tr>\n",
       "            <td>Calendar </td> <td>2015</td> <td>2                      </td> <td>Public Works, Transportation & Commerce</td> <td>AIR            </td> <td>Airport Commission                  </td> <td>4         </td> <td>Painters, Local 1176                              </td> <td>7300           </td> <td>Journeyman Trade          </td> <td>7346    </td> <td>Painter                 </td> <td>7573               </td> <td>79722   </td> <td>0       </td> <td>200           </td> <td>79922       </td> <td>16473.6   </td> <td>12424.5      </td> <td>6546.98       </td> <td>35445.1       </td> <td>115367            </td>\n",
       "        </tr>\n",
       "        <tr>\n",
       "            <td>Calendar </td> <td>2015</td> <td>1                      </td> <td>Public Protection                      </td> <td>POL            </td> <td>Police                              </td> <td>911       </td> <td>Police Officers' Association                      </td> <td>Q000           </td> <td>Police Services           </td> <td>Q002    </td> <td>Police Officer          </td> <td>28472              </td> <td>37420.5 </td> <td>1010.93 </td> <td>2994.13       </td> <td>41425.6     </td> <td>8448.97   </td> <td>5734.39      </td> <td>870.21        </td> <td>15053.6       </td> <td>56479.1           </td>\n",
       "        </tr>\n",
       "        <tr>\n",
       "            <td>Calendar </td> <td>2015</td> <td>6                      </td> <td>General Administration & Finance       </td> <td>ADM            </td> <td>General Services Agency - City Admin</td> <td>790       </td> <td>SEIU - Miscellaneous, Local 1021                  </td> <td>1300           </td> <td>Pub Relations & Spec Assts</td> <td>1324    </td> <td>Customer Service Agent  </td> <td>36584              </td> <td>22990.2 </td> <td>0       </td> <td>247.84        </td> <td>23238.1     </td> <td>1337.13   </td> <td>4659.19      </td> <td>1797.1        </td> <td>7793.42       </td> <td>31031.5           </td>\n",
       "        </tr>\n",
       "        <tr>\n",
       "            <td>Calendar </td> <td>2015</td> <td>2                      </td> <td>Public Works, Transportation & Commerce</td> <td>MTA            </td> <td>Municipal Transportation Agency     </td> <td>253       </td> <td>Transport Workers - Transit Operators, Local 250-A</td> <td>9100           </td> <td>Street Transit            </td> <td>9163    </td> <td>Transit Operator        </td> <td>50500              </td> <td>66458.1 </td> <td>19280.6 </td> <td>1646.2        </td> <td>87384.9     </td> <td>18634.5   </td> <td>13094.6      </td> <td>6571.47       </td> <td>38300.6       </td> <td>125686            </td>\n",
       "        </tr>\n",
       "        <tr>\n",
       "            <td>Calendar </td> <td>2015</td> <td>1                      </td> <td>Public Protection                      </td> <td>FIR            </td> <td>Fire Department                     </td> <td>798       </td> <td>Firefighters - Miscellaneous, Local 798           </td> <td>H000           </td> <td>Fire Services             </td> <td>H002    </td> <td>Firefighter             </td> <td>40892              </td> <td>111769  </td> <td>39311.1 </td> <td>10667.2       </td> <td>161747      </td> <td>24450.5   </td> <td>15000.5      </td> <td>2656.79       </td> <td>42107.9       </td> <td>203855            </td>\n",
       "        </tr>\n",
       "        <tr>\n",
       "            <td>Calendar </td> <td>2015</td> <td>6                      </td> <td>General Administration & Finance       </td> <td>ADM            </td> <td>General Services Agency - City Admin</td> <td>130       </td> <td>Automotive Machinists, Local 1414                 </td> <td>7300           </td> <td>Journeyman Trade          </td> <td>7313    </td> <td>Automotive Machinist    </td> <td>9556               </td> <td>82853.3 </td> <td>3754.88 </td> <td>9549.41       </td> <td>96157.6     </td> <td>19039.6   </td> <td>12420        </td> <td>7686.35       </td> <td>39146         </td> <td>135304            </td>\n",
       "        </tr>\n",
       "        <tr>\n",
       "            <td>Calendar </td> <td>2015</td> <td>4                      </td> <td>Community Health                       </td> <td>DPH            </td> <td>Public Health                       </td> <td>856       </td> <td>Teamsters - Miscellaneous, Local 856              </td> <td>2400           </td> <td>Lab, Pharmacy & Med Techs </td> <td>2462    </td> <td>Microbiologist          </td> <td>25530              </td> <td>28600   </td> <td>0       </td> <td>0             </td> <td>28600       </td> <td>5322.47   </td> <td>4539.72      </td> <td>2266.43       </td> <td>12128.6       </td> <td>40728.6           </td>\n",
       "        </tr>\n",
       "        <tr>\n",
       "            <td>Calendar </td> <td>2015</td> <td>2                      </td> <td>Public Works, Transportation & Commerce</td> <td>MTA            </td> <td>Municipal Transportation Agency     </td> <td>4         </td> <td>Painters, Local 1176                              </td> <td>7300           </td> <td>Journeyman Trade          </td> <td>7346    </td> <td>Painter                 </td> <td>33234              </td> <td>79683.9 </td> <td>9384.53 </td> <td>10            </td> <td>89078.4     </td> <td>16424.2   </td> <td>12418.5      </td> <td>7352.63       </td> <td>36195.4       </td> <td>125274            </td>\n",
       "        </tr>\n",
       "        <tr>\n",
       "            <td>Calendar </td> <td>2015</td> <td>2                      </td> <td>Public Works, Transportation & Commerce</td> <td>MTA            </td> <td>Municipal Transportation Agency     </td> <td>21        </td> <td>Prof & Tech Engineers - Miscellaneous, Local 21   </td> <td>1300           </td> <td>Pub Relations & Spec Assts</td> <td>1314    </td> <td>Public Relations Officer</td> <td>22638              </td> <td>96254   </td> <td>0       </td> <td>900           </td> <td>97154       </td> <td>20020.2   </td> <td>12424.5      </td> <td>7767.12       </td> <td>40211.9       </td> <td>137366            </td>\n",
       "        </tr>\n",
       "    </tbody>\n",
       "</table>\n",
       "<p>... (290 rows omitted)</p>"
      ],
      "text/plain": [
       "Year Type | Year | Organization Group Code | Organization Group                      | Department Code | Department                           | Union Code | Union                                              | Job Family Code | Job Family                 | Job Code | Job                      | Employee Identifier | Salaries | Overtime | Other Salaries | Total Salary | Retirement | Health/Dental | Other Benefits | Total Benefits | Total Compensation\n",
       "Calendar  | 2015 | 4                       | Community Health                        | DPH             | Public Health                        | 250        | SEIU - Health Workers, Local 1021                  | 2300            | Nursing                    | 2303     | Patient Care Assistant   | 16511               | 69968.1  | 5913.85  | 4151.88        | 80033.8      | 14564.8    | 12375.2       | 6329.35        | 33269.4        | 113303\n",
       "Calendar  | 2015 | 2                       | Public Works, Transportation & Commerce | AIR             | Airport Commission                   | 4          | Painters, Local 1176                               | 7300            | Journeyman Trade           | 7346     | Painter                  | 7573                | 79722    | 0        | 200            | 79922        | 16473.6    | 12424.5       | 6546.98        | 35445.1        | 115367\n",
       "Calendar  | 2015 | 1                       | Public Protection                       | POL             | Police                               | 911        | Police Officers' Association                       | Q000            | Police Services            | Q002     | Police Officer           | 28472               | 37420.5  | 1010.93  | 2994.13        | 41425.6      | 8448.97    | 5734.39       | 870.21         | 15053.6        | 56479.1\n",
       "Calendar  | 2015 | 6                       | General Administration & Finance        | ADM             | General Services Agency - City Admin | 790        | SEIU - Miscellaneous, Local 1021                   | 1300            | Pub Relations & Spec Assts | 1324     | Customer Service Agent   | 36584               | 22990.2  | 0        | 247.84         | 23238.1      | 1337.13    | 4659.19       | 1797.1         | 7793.42        | 31031.5\n",
       "Calendar  | 2015 | 2                       | Public Works, Transportation & Commerce | MTA             | Municipal Transportation Agency      | 253        | Transport Workers - Transit Operators, Local 250-A | 9100            | Street Transit             | 9163     | Transit Operator         | 50500               | 66458.1  | 19280.6  | 1646.2         | 87384.9      | 18634.5    | 13094.6       | 6571.47        | 38300.6        | 125686\n",
       "Calendar  | 2015 | 1                       | Public Protection                       | FIR             | Fire Department                      | 798        | Firefighters - Miscellaneous, Local 798            | H000            | Fire Services              | H002     | Firefighter              | 40892               | 111769   | 39311.1  | 10667.2        | 161747       | 24450.5    | 15000.5       | 2656.79        | 42107.9        | 203855\n",
       "Calendar  | 2015 | 6                       | General Administration & Finance        | ADM             | General Services Agency - City Admin | 130        | Automotive Machinists, Local 1414                  | 7300            | Journeyman Trade           | 7313     | Automotive Machinist     | 9556                | 82853.3  | 3754.88  | 9549.41        | 96157.6      | 19039.6    | 12420         | 7686.35        | 39146          | 135304\n",
       "Calendar  | 2015 | 4                       | Community Health                        | DPH             | Public Health                        | 856        | Teamsters - Miscellaneous, Local 856               | 2400            | Lab, Pharmacy & Med Techs  | 2462     | Microbiologist           | 25530               | 28600    | 0        | 0              | 28600        | 5322.47    | 4539.72       | 2266.43        | 12128.6        | 40728.6\n",
       "Calendar  | 2015 | 2                       | Public Works, Transportation & Commerce | MTA             | Municipal Transportation Agency      | 4          | Painters, Local 1176                               | 7300            | Journeyman Trade           | 7346     | Painter                  | 33234               | 79683.9  | 9384.53  | 10             | 89078.4      | 16424.2    | 12418.5       | 7352.63        | 36195.4        | 125274\n",
       "Calendar  | 2015 | 2                       | Public Works, Transportation & Commerce | MTA             | Municipal Transportation Agency      | 21         | Prof & Tech Engineers - Miscellaneous, Local 21    | 1300            | Pub Relations & Spec Assts | 1314     | Public Relations Officer | 22638               | 96254    | 0        | 900            | 97154        | 20020.2    | 12424.5       | 7767.12        | 40211.9        | 137366\n",
       "... (290 rows omitted)"
      ]
     },
     "execution_count": 15,
     "metadata": {},
     "output_type": "execute_result"
    }
   ],
   "source": [
    "our_sample = sf.sample(300, with_replacement=False)\n",
    "our_sample"
   ]
  },
  {
   "cell_type": "code",
   "execution_count": 16,
   "metadata": {},
   "outputs": [
    {
     "data": {
      "text/plain": [
       "108836.88"
      ]
     },
     "execution_count": 16,
     "metadata": {},
     "output_type": "execute_result"
    }
   ],
   "source": [
    "percentile(50, our_sample.column('Total Compensation'))"
   ]
  },
  {
   "cell_type": "code",
   "execution_count": 19,
   "metadata": {},
   "outputs": [
    {
     "data": {
      "image/png": "[encoded data removed]",
      "text/plain": [
       "<Figure size 432x288 with 1 Axes>"
      ]
     },
     "metadata": {},
     "output_type": "display_data"
    }
   ],
   "source": [
    "sf_bins = np.arange(0, 700000, 25000)\n",
    "sf.hist('Total Compensation', bins=sf_bins)"
   ]
  },
  {
   "cell_type": "code",
   "execution_count": 20,
   "metadata": {},
   "outputs": [
    {
     "data": {
      "image/png": "[encoded data removed]",
      "text/plain": [
       "<Figure size 432x288 with 1 Axes>"
      ]
     },
     "metadata": {},
     "output_type": "display_data"
    }
   ],
   "source": [
    "our_sample.hist('Total Compensation', bins=sf_bins)"
   ]
  },
  {
   "cell_type": "code",
   "execution_count": 21,
   "metadata": {},
   "outputs": [],
   "source": [
    "resample1 = our_sample.sample(300, with_replacement=True)"
   ]
  },
  {
   "cell_type": "code",
   "execution_count": 22,
   "metadata": {},
   "outputs": [
    {
     "data": {
      "image/png": "[encoded data removed]",
      "text/plain": [
       "<Figure size 432x288 with 1 Axes>"
      ]
     },
     "metadata": {},
     "output_type": "display_data"
    }
   ],
   "source": [
    "resample1.hist('Total Compensation', bins=sf_bins)"
   ]
  },
  {
   "cell_type": "code",
   "execution_count": 23,
   "metadata": {},
   "outputs": [],
   "source": [
    "resample2 = our_sample.sample()"
   ]
  },
  {
   "cell_type": "code",
   "execution_count": 24,
   "metadata": {},
   "outputs": [
    {
     "data": {
      "text/plain": [
       "111566.03"
      ]
     },
     "execution_count": 24,
     "metadata": {},
     "output_type": "execute_result"
    }
   ],
   "source": [
    "percentile(50, resample1.column('Total Compensation'))"
   ]
  },
  {
   "cell_type": "code",
   "execution_count": 25,
   "metadata": {},
   "outputs": [
    {
     "data": {
      "text/plain": [
       "111491.31"
      ]
     },
     "execution_count": 25,
     "metadata": {},
     "output_type": "execute_result"
    }
   ],
   "source": [
    "percentile(50, resample2.column('Total Compensation'))"
   ]
  },
  {
   "cell_type": "code",
   "execution_count": 26,
   "metadata": {},
   "outputs": [],
   "source": [
    "medians = make_array()\n",
    "\n",
    "for i in np.arange(1000):\n",
    "    resampled = our_sample.sample()\n",
    "    median = percentile(50, resampled.column('Total Compensation'))\n",
    "    medians = np.append(medians, median)"
   ]
  },
  {
   "cell_type": "code",
   "execution_count": 27,
   "metadata": {},
   "outputs": [],
   "source": [
    "def bootstrap_median(original_sample, label, replications):\n",
    "    \"\"\"Simulate sample median:\n",
    "    original_sample: table containing the original sample\n",
    "    label: label of column containing the variable\n",
    "    replications: number of bootstrap samples\n",
    "    Returns array of bootstrap sample medians\n",
    "    \"\"\"\n",
    "    medians = make_array()\n",
    "    for i in np.arange(replications):\n",
    "        bootstrap_sample = original_sample.sample()\n",
    "        resampled_median = percentile(50, bootstrap_sample.column(label))\n",
    "        medians = np.append(medians, resampled_median)\n",
    "        \n",
    "    return medians"
   ]
  },
  {
   "cell_type": "code",
   "execution_count": 28,
   "metadata": {},
   "outputs": [],
   "source": [
    "bstrap_medians = bootstrap_median(our_sample, 'Total Compensation', 1000)"
   ]
  },
  {
   "cell_type": "code",
   "execution_count": 29,
   "metadata": {},
   "outputs": [],
   "source": [
    "pop_median = percentile(50, sf.column('Total Compensation'))"
   ]
  },
  {
   "cell_type": "code",
   "execution_count": 30,
   "metadata": {},
   "outputs": [
    {
     "data": {
      "image/png": "[encoded data removed]",
      "text/plain": [
       "<Figure size 432x288 with 1 Axes>"
      ]
     },
     "metadata": {},
     "output_type": "display_data"
    }
   ],
   "source": [
    "resampled_medians = Table().with_column(\n",
    "    'Bootstrap Sample Median', bstrap_medians)\n",
    "\n",
    "resampled_medians.hist()\n",
    "\n",
    "plots.scatter(pop_median, 0, color='red', s=40);"
   ]
  },
  {
   "cell_type": "code",
   "execution_count": 31,
   "metadata": {},
   "outputs": [
    {
     "data": {
      "text/plain": [
       "96183.3"
      ]
     },
     "execution_count": 31,
     "metadata": {},
     "output_type": "execute_result"
    }
   ],
   "source": [
    "left = percentile(2.5, bstrap_medians)\n",
    "left"
   ]
  },
  {
   "cell_type": "code",
   "execution_count": 32,
   "metadata": {},
   "outputs": [
    {
     "data": {
      "text/plain": [
       "113923.18"
      ]
     },
     "execution_count": 32,
     "metadata": {},
     "output_type": "execute_result"
    }
   ],
   "source": [
    "right = percentile(97.5, bstrap_medians)\n",
    "right"
   ]
  },
  {
   "cell_type": "code",
   "execution_count": 33,
   "metadata": {},
   "outputs": [
    {
     "data": {
      "image/png": "[encoded data removed]",
      "text/plain": [
       "<Figure size 432x288 with 1 Axes>"
      ]
     },
     "metadata": {},
     "output_type": "display_data"
    }
   ],
   "source": [
    "resampled_medians.hist()\n",
    "\n",
    "plots.plot([left, right], [0, 0], color='yellow', lw=3, zorder=1)\n",
    "plots.scatter(pop_median, 0, color='red', s=30, zorder=2);"
   ]
  },
  {
   "cell_type": "code",
   "execution_count": 34,
   "metadata": {},
   "outputs": [
    {
     "data": {
      "text/plain": [
       "array([ 96183.3 , 113923.18])"
      ]
     },
     "execution_count": 34,
     "metadata": {},
     "output_type": "execute_result"
    }
   ],
   "source": [
    "confidence_interval = make_array(left, right)\n",
    "confidence_interval"
   ]
  },
  {
   "cell_type": "code",
   "execution_count": 35,
   "metadata": {},
   "outputs": [],
   "source": [
    "# THE BIG SIMULATION: This one takes a long time.\n",
    "\n",
    "# Generate the endpoints of 50 intervals\n",
    "\n",
    "left_ends = make_array()\n",
    "right_ends = make_array()\n",
    "\n",
    "for i in np.arange(50):\n",
    "    first_sample = sf.sample(300, with_replacement=False)\n",
    "    medians = bootstrap_median(first_sample, 'Total Compensation', 2000)\n",
    "    left_ends = np.append(left_ends, percentile(2.5, medians))\n",
    "    right_ends = np.append(right_ends, percentile(97.5, medians))"
   ]
  },
  {
   "cell_type": "code",
   "execution_count": 36,
   "metadata": {},
   "outputs": [],
   "source": [
    "intervals = Table().with_columns(\n",
    "    'Left', left_ends,\n",
    "    'Right', right_ends\n",
    ")    "
   ]
  },
  {
   "cell_type": "code",
   "execution_count": 37,
   "metadata": {},
   "outputs": [
    {
     "data": {
      "text/html": [
       "<table border=\"1\" class=\"dataframe\">\n",
       "    <thead>\n",
       "        <tr>\n",
       "            <th>Left</th> <th>Right</th>\n",
       "        </tr>\n",
       "    </thead>\n",
       "    <tbody>\n",
       "        <tr>\n",
       "            <td>97710.2</td> <td>110681</td>\n",
       "        </tr>\n",
       "        <tr>\n",
       "            <td>99459  </td> <td>114328</td>\n",
       "        </tr>\n",
       "        <tr>\n",
       "            <td>102244 </td> <td>117930</td>\n",
       "        </tr>\n",
       "        <tr>\n",
       "            <td>98795  </td> <td>113998</td>\n",
       "        </tr>\n",
       "        <tr>\n",
       "            <td>94261.3</td> <td>110720</td>\n",
       "        </tr>\n",
       "        <tr>\n",
       "            <td>95743.9</td> <td>114497</td>\n",
       "        </tr>\n",
       "        <tr>\n",
       "            <td>96973.1</td> <td>119535</td>\n",
       "        </tr>\n",
       "        <tr>\n",
       "            <td>98635.4</td> <td>113823</td>\n",
       "        </tr>\n",
       "        <tr>\n",
       "            <td>96825.8</td> <td>113068</td>\n",
       "        </tr>\n",
       "        <tr>\n",
       "            <td>93830.4</td> <td>113958</td>\n",
       "        </tr>\n",
       "    </tbody>\n",
       "</table>\n",
       "<p>... (40 rows omitted)</p>"
      ],
      "text/plain": [
       "Left    | Right\n",
       "97710.2 | 110681\n",
       "99459   | 114328\n",
       "102244  | 117930\n",
       "98795   | 113998\n",
       "94261.3 | 110720\n",
       "95743.9 | 114497\n",
       "96973.1 | 119535\n",
       "98635.4 | 113823\n",
       "96825.8 | 113068\n",
       "93830.4 | 113958\n",
       "... (40 rows omitted)"
      ]
     },
     "execution_count": 37,
     "metadata": {},
     "output_type": "execute_result"
    }
   ],
   "source": [
    "intervals"
   ]
  },
  {
   "cell_type": "code",
   "execution_count": 38,
   "metadata": {},
   "outputs": [],
   "source": [
    "good = intervals.where('Left', are.below(pop_median)).where('Right', are.above(pop_median)).num_rows"
   ]
  },
  {
   "cell_type": "code",
   "execution_count": 39,
   "metadata": {},
   "outputs": [
    {
     "data": {
      "text/plain": [
       "0.96"
      ]
     },
     "execution_count": 39,
     "metadata": {},
     "output_type": "execute_result"
    }
   ],
   "source": [
    "good / 50"
   ]
  },
  {
   "cell_type": "code",
   "execution_count": null,
   "metadata": {},
   "outputs": [],
   "source": []
  }
 ],
 "metadata": {
  "anaconda-cloud": {},
  "kernelspec": {
   "display_name": "Python 3",
   "language": "python",
   "name": "python3"
  },
  "language_info": {
   "codemirror_mode": {
    "name": "ipython",
    "version": 3
   },
   "file_extension": ".py",
   "mimetype": "text/x-python",
   "name": "python",
   "nbconvert_exporter": "python",
   "pygments_lexer": "ipython3",
   "version": "3.8.8"
  }
 },
 "nbformat": 4,
 "nbformat_minor": 1
}
