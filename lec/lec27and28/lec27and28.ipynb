{
 "cells": [
  {
   "cell_type": "code",
   "execution_count": 1,
   "metadata": {},
   "outputs": [],
   "source": [
    "import matplotlib\n",
    "from datascience import *\n",
    "%matplotlib inline\n",
    "import matplotlib.pyplot as plots\n",
    "import numpy as np\n",
    "plots.style.use('fivethirtyeight')"
   ]
  },
  {
   "cell_type": "markdown",
   "metadata": {},
   "source": [
    "## Lecture 27 and 28 ##"
   ]
  },
  {
   "cell_type": "markdown",
   "metadata": {
    "collapsed": true
   },
   "source": [
    "## Central Limit Theorem:\n",
    "## Mean and Variability  of Sample Means"
   ]
  },
  {
   "cell_type": "code",
   "execution_count": 2,
   "metadata": {},
   "outputs": [
    {
     "data": {
      "text/html": [
       "<table border=\"1\" class=\"dataframe\">\n",
       "    <thead>\n",
       "        <tr>\n",
       "            <th>Date</th> <th>Flight Number</th> <th>Destination</th> <th>Delay</th>\n",
       "        </tr>\n",
       "    </thead>\n",
       "    <tbody>\n",
       "        <tr>\n",
       "            <td>6/1/15</td> <td>73           </td> <td>HNL        </td> <td>257  </td>\n",
       "        </tr>\n",
       "        <tr>\n",
       "            <td>6/1/15</td> <td>217          </td> <td>EWR        </td> <td>28   </td>\n",
       "        </tr>\n",
       "        <tr>\n",
       "            <td>6/1/15</td> <td>237          </td> <td>STL        </td> <td>-3   </td>\n",
       "        </tr>\n",
       "        <tr>\n",
       "            <td>6/1/15</td> <td>250          </td> <td>SAN        </td> <td>0    </td>\n",
       "        </tr>\n",
       "        <tr>\n",
       "            <td>6/1/15</td> <td>267          </td> <td>PHL        </td> <td>64   </td>\n",
       "        </tr>\n",
       "        <tr>\n",
       "            <td>6/1/15</td> <td>273          </td> <td>SEA        </td> <td>-6   </td>\n",
       "        </tr>\n",
       "        <tr>\n",
       "            <td>6/1/15</td> <td>278          </td> <td>SEA        </td> <td>-8   </td>\n",
       "        </tr>\n",
       "        <tr>\n",
       "            <td>6/1/15</td> <td>292          </td> <td>EWR        </td> <td>12   </td>\n",
       "        </tr>\n",
       "        <tr>\n",
       "            <td>6/1/15</td> <td>300          </td> <td>HNL        </td> <td>20   </td>\n",
       "        </tr>\n",
       "        <tr>\n",
       "            <td>6/1/15</td> <td>317          </td> <td>IND        </td> <td>-10  </td>\n",
       "        </tr>\n",
       "    </tbody>\n",
       "</table>\n",
       "<p>... (13815 rows omitted)</p>"
      ],
      "text/plain": [
       "Date   | Flight Number | Destination | Delay\n",
       "6/1/15 | 73            | HNL         | 257\n",
       "6/1/15 | 217           | EWR         | 28\n",
       "6/1/15 | 237           | STL         | -3\n",
       "6/1/15 | 250           | SAN         | 0\n",
       "6/1/15 | 267           | PHL         | 64\n",
       "6/1/15 | 273           | SEA         | -6\n",
       "6/1/15 | 278           | SEA         | -8\n",
       "6/1/15 | 292           | EWR         | 12\n",
       "6/1/15 | 300           | HNL         | 20\n",
       "6/1/15 | 317           | IND         | -10\n",
       "... (13815 rows omitted)"
      ]
     },
     "execution_count": 2,
     "metadata": {},
     "output_type": "execute_result"
    }
   ],
   "source": [
    "united = Table.read_table('united_summer2015.csv')\n",
    "united"
   ]
  },
  {
   "cell_type": "code",
   "execution_count": 3,
   "metadata": {},
   "outputs": [
    {
     "data": {
      "text/plain": [
       "13825"
      ]
     },
     "execution_count": 3,
     "metadata": {},
     "output_type": "execute_result"
    }
   ],
   "source": [
    "united.num_rows"
   ]
  },
  {
   "cell_type": "code",
   "execution_count": 4,
   "metadata": {},
   "outputs": [
    {
     "data": {
      "image/png": "[encoded data removed]",
      "text/plain": [
       "<Figure size 432x288 with 1 Axes>"
      ]
     },
     "metadata": {},
     "output_type": "display_data"
    }
   ],
   "source": [
    "united.hist('Delay', bins = np.arange(-20, 300, 10))"
   ]
  },
  {
   "cell_type": "code",
   "execution_count": 5,
   "metadata": {},
   "outputs": [
    {
     "data": {
      "text/plain": [
       "(16.658155515370705, 39.480199851609314)"
      ]
     },
     "execution_count": 5,
     "metadata": {},
     "output_type": "execute_result"
    }
   ],
   "source": [
    "delays = united.column('Delay')\n",
    "mean_delay = np.mean(delays)\n",
    "sd_delay = np.std(delays)\n",
    "\n",
    "mean_delay, sd_delay"
   ]
  },
  {
   "cell_type": "code",
   "execution_count": 6,
   "metadata": {},
   "outputs": [
    {
     "data": {
      "text/plain": [
       "2"
      ]
     },
     "execution_count": 6,
     "metadata": {},
     "output_type": "execute_result"
    }
   ],
   "source": [
    "percentile(50, delays)"
   ]
  },
  {
   "cell_type": "code",
   "execution_count": 7,
   "metadata": {},
   "outputs": [],
   "source": [
    "sample_size = 400\n",
    "\n",
    "means_400 = make_array()\n",
    "\n",
    "for i in np.arange(10000):\n",
    "    sampled_flights = united.sample(sample_size)\n",
    "    sample_mean = np.mean(sampled_flights.column('Delay'))\n",
    "    means_400 = np.append(means_400, sample_mean)"
   ]
  },
  {
   "cell_type": "code",
   "execution_count": 8,
   "metadata": {},
   "outputs": [],
   "source": [
    "sample_size = 900\n",
    "\n",
    "means_900 = make_array()\n",
    "\n",
    "for i in np.arange(10000):\n",
    "    sampled_flights = united.sample(sample_size)\n",
    "    sample_mean = np.mean(sampled_flights.column('Delay'))\n",
    "    means_900 = np.append(means_900, sample_mean)"
   ]
  },
  {
   "cell_type": "code",
   "execution_count": 9,
   "metadata": {},
   "outputs": [],
   "source": [
    "means_tbl = Table().with_columns(\n",
    "    'Sample size 400', means_400,\n",
    "    'Sample size 900', means_900\n",
    ")"
   ]
  },
  {
   "cell_type": "code",
   "execution_count": 10,
   "metadata": {},
   "outputs": [
    {
     "data": {
      "image/png": "[encoded data removed]",
      "text/plain": [
       "<Figure size 432x288 with 1 Axes>"
      ]
     },
     "metadata": {},
     "output_type": "display_data"
    }
   ],
   "source": [
    "means_tbl.hist(bins = np.arange(10, 24, 0.25))\n",
    "plots.title('Distribution of Sample');"
   ]
  },
  {
   "cell_type": "code",
   "execution_count": 11,
   "metadata": {},
   "outputs": [],
   "source": [
    "\"\"\"Empirical distribution of random sample means\"\"\"\n",
    "\n",
    "def sample_means(sample_size):\n",
    "    \n",
    "    repetitions = 10000\n",
    "    means = make_array()\n",
    "\n",
    "    for i in range(repetitions):\n",
    "        sampled_flights = united.sample(sample_size)\n",
    "        sample_mean = np.mean(sampled_flights.column('Delay'))\n",
    "        means = np.append(means, sample_mean)\n",
    "\n",
    "    sample_means = Table().with_column('Sample Means', means)\n",
    "    \n",
    "    # Display empirical histogram and print all relevant quantities\n",
    "    sample_means.hist(bins=20)\n",
    "    plots.xlabel('Sample Means')\n",
    "    plots.title('Sample Size ' + str(sample_size))\n",
    "    print(\"Sample size: \", sample_size)\n",
    "    print(\"Population mean:\", np.mean(united.column('Delay')))\n",
    "    print(\"Average of sample means: \", np.mean(means))\n",
    "    print(\"Population SD:\", np.std(united.column('Delay')))\n",
    "    print(\"SD of sample means:\", np.std(means))"
   ]
  },
  {
   "cell_type": "code",
   "execution_count": 12,
   "metadata": {},
   "outputs": [
    {
     "name": "stdout",
     "output_type": "stream",
     "text": [
      "Sample size:  100\n",
      "Population mean: 16.658155515370705\n",
      "Average of sample means:  16.619591\n",
      "Population SD: 39.480199851609314\n",
      "SD of sample means: 3.9536497951537135\n"
     ]
    },
    {
     "data": {
      "image/png": "[encoded data removed]",
      "text/plain": [
       "<Figure size 432x288 with 1 Axes>"
      ]
     },
     "metadata": {},
     "output_type": "display_data"
    }
   ],
   "source": [
    "sample_means(100)"
   ]
  },
  {
   "cell_type": "code",
   "execution_count": 13,
   "metadata": {},
   "outputs": [],
   "source": [
    "sample_sizes = np.arange(100, 401, 50)\n",
    "\n",
    "mean_of_sample_means = make_array()\n",
    "sd_of_sample_means = make_array()\n",
    "\n",
    "for n in sample_sizes:\n",
    "    means = make_array()\n",
    "    for i in np.arange(10000):\n",
    "        means = np.append(means, np.mean(united.sample(n).column('Delay')))\n",
    "    sd_of_sample_means = np.append(sd_of_sample_means, np.std(means))\n",
    "    mean_of_sample_means = np.append(mean_of_sample_means, np.mean(means))"
   ]
  },
  {
   "cell_type": "code",
   "execution_count": 14,
   "metadata": {},
   "outputs": [],
   "source": [
    "mean_comparison = Table().with_columns(\n",
    "    'Sample Size n', sample_sizes,\n",
    "    'Pop_Mean', mean_delay,\n",
    "    'Mean of 10,000 Sample Means', mean_of_sample_means\n",
    "   \n",
    ")"
   ]
  },
  {
   "cell_type": "code",
   "execution_count": 15,
   "metadata": {},
   "outputs": [
    {
     "data": {
      "text/html": [
       "<table border=\"1\" class=\"dataframe\">\n",
       "    <thead>\n",
       "        <tr>\n",
       "            <th>Sample Size n</th> <th>Pop_Mean</th> <th>Mean of 10,000 Sample Means</th>\n",
       "        </tr>\n",
       "    </thead>\n",
       "    <tbody>\n",
       "        <tr>\n",
       "            <td>100          </td> <td>16.6582 </td> <td>16.695                     </td>\n",
       "        </tr>\n",
       "        <tr>\n",
       "            <td>150          </td> <td>16.6582 </td> <td>16.6455                    </td>\n",
       "        </tr>\n",
       "        <tr>\n",
       "            <td>200          </td> <td>16.6582 </td> <td>16.6286                    </td>\n",
       "        </tr>\n",
       "        <tr>\n",
       "            <td>250          </td> <td>16.6582 </td> <td>16.6639                    </td>\n",
       "        </tr>\n",
       "        <tr>\n",
       "            <td>300          </td> <td>16.6582 </td> <td>16.6457                    </td>\n",
       "        </tr>\n",
       "        <tr>\n",
       "            <td>350          </td> <td>16.6582 </td> <td>16.67                      </td>\n",
       "        </tr>\n",
       "        <tr>\n",
       "            <td>400          </td> <td>16.6582 </td> <td>16.6524                    </td>\n",
       "        </tr>\n",
       "    </tbody>\n",
       "</table>"
      ],
      "text/plain": [
       "Sample Size n | Pop_Mean | Mean of 10,000 Sample Means\n",
       "100           | 16.6582  | 16.695\n",
       "150           | 16.6582  | 16.6455\n",
       "200           | 16.6582  | 16.6286\n",
       "250           | 16.6582  | 16.6639\n",
       "300           | 16.6582  | 16.6457\n",
       "350           | 16.6582  | 16.67\n",
       "400           | 16.6582  | 16.6524"
      ]
     },
     "execution_count": 15,
     "metadata": {},
     "output_type": "execute_result"
    }
   ],
   "source": [
    "mean_comparison"
   ]
  },
  {
   "cell_type": "code",
   "execution_count": 16,
   "metadata": {},
   "outputs": [],
   "source": [
    "sd_comparison = Table().with_columns(\n",
    "    'Sample Size n', sample_sizes,\n",
    "    'Pop_SD', sd_delay,\n",
    "    'SD of 10,000 Sample Means', sd_of_sample_means,\n",
    "    'Pop_SD/sqrt(n)', sd_delay/np.sqrt(sample_sizes)\n",
    "   )"
   ]
  },
  {
   "cell_type": "code",
   "execution_count": 17,
   "metadata": {},
   "outputs": [
    {
     "data": {
      "text/html": [
       "<table border=\"1\" class=\"dataframe\">\n",
       "    <thead>\n",
       "        <tr>\n",
       "            <th>Sample Size n</th> <th>Pop_SD</th> <th>SD of 10,000 Sample Means</th> <th>Pop_SD/sqrt(n)</th>\n",
       "        </tr>\n",
       "    </thead>\n",
       "    <tbody>\n",
       "        <tr>\n",
       "            <td>100          </td> <td>39.4802</td> <td>3.98263                  </td> <td>3.94802       </td>\n",
       "        </tr>\n",
       "        <tr>\n",
       "            <td>150          </td> <td>39.4802</td> <td>3.19522                  </td> <td>3.22354       </td>\n",
       "        </tr>\n",
       "        <tr>\n",
       "            <td>200          </td> <td>39.4802</td> <td>2.81596                  </td> <td>2.79167       </td>\n",
       "        </tr>\n",
       "        <tr>\n",
       "            <td>250          </td> <td>39.4802</td> <td>2.50806                  </td> <td>2.49695       </td>\n",
       "        </tr>\n",
       "        <tr>\n",
       "            <td>300          </td> <td>39.4802</td> <td>2.25817                  </td> <td>2.27939       </td>\n",
       "        </tr>\n",
       "        <tr>\n",
       "            <td>350          </td> <td>39.4802</td> <td>2.11707                  </td> <td>2.11031       </td>\n",
       "        </tr>\n",
       "        <tr>\n",
       "            <td>400          </td> <td>39.4802</td> <td>1.97835                  </td> <td>1.97401       </td>\n",
       "        </tr>\n",
       "    </tbody>\n",
       "</table>"
      ],
      "text/plain": [
       "Sample Size n | Pop_SD  | SD of 10,000 Sample Means | Pop_SD/sqrt(n)\n",
       "100           | 39.4802 | 3.98263                   | 3.94802\n",
       "150           | 39.4802 | 3.19522                   | 3.22354\n",
       "200           | 39.4802 | 2.81596                   | 2.79167\n",
       "250           | 39.4802 | 2.50806                   | 2.49695\n",
       "300           | 39.4802 | 2.25817                   | 2.27939\n",
       "350           | 39.4802 | 2.11707                   | 2.11031\n",
       "400           | 39.4802 | 1.97835                   | 1.97401"
      ]
     },
     "execution_count": 17,
     "metadata": {},
     "output_type": "execute_result"
    }
   ],
   "source": [
    "sd_comparison"
   ]
  },
  {
   "cell_type": "code",
   "execution_count": 18,
   "metadata": {},
   "outputs": [
    {
     "data": {
      "image/png": "[encoded data removed]",
      "text/plain": [
       "<Figure size 360x360 with 1 Axes>"
      ]
     },
     "metadata": {},
     "output_type": "display_data"
    }
   ],
   "source": [
    "sd_comparison.drop('Pop_SD').scatter('Sample Size n')"
   ]
  },
  {
   "cell_type": "markdown",
   "metadata": {},
   "source": [
    "## Lecture 28 ##"
   ]
  },
  {
   "cell_type": "markdown",
   "metadata": {
    "collapsed": true
   },
   "source": [
    "## To illustrate that SD of 0/1 Population is 0.5 or less"
   ]
  },
  {
   "cell_type": "code",
   "execution_count": 19,
   "metadata": {},
   "outputs": [
    {
     "data": {
      "text/plain": [
       "array([1., 1., 1., 1., 1., 0., 0., 0., 0., 0.])"
      ]
     },
     "execution_count": 19,
     "metadata": {},
     "output_type": "execute_result"
    }
   ],
   "source": [
    "# Population of size 10\n",
    "\n",
    "ones = 5\n",
    "zero_one_population = np.append(np.ones(ones), np.zeros(10 - ones))\n",
    "zero_one_population"
   ]
  },
  {
   "cell_type": "code",
   "execution_count": 20,
   "metadata": {},
   "outputs": [
    {
     "data": {
      "text/plain": [
       "0.5"
      ]
     },
     "execution_count": 20,
     "metadata": {},
     "output_type": "execute_result"
    }
   ],
   "source": [
    "np.std(zero_one_population)"
   ]
  },
  {
   "cell_type": "code",
   "execution_count": 21,
   "metadata": {},
   "outputs": [
    {
     "data": {
      "text/html": [
       "<table border=\"1\" class=\"dataframe\">\n",
       "    <thead>\n",
       "        <tr>\n",
       "            <th>Population Proportion</th> <th>Population SD</th>\n",
       "        </tr>\n",
       "    </thead>\n",
       "    <tbody>\n",
       "        <tr>\n",
       "            <td>0.1                  </td> <td>0.3          </td>\n",
       "        </tr>\n",
       "        <tr>\n",
       "            <td>0.2                  </td> <td>0.4          </td>\n",
       "        </tr>\n",
       "        <tr>\n",
       "            <td>0.3                  </td> <td>0.458258     </td>\n",
       "        </tr>\n",
       "        <tr>\n",
       "            <td>0.4                  </td> <td>0.489898     </td>\n",
       "        </tr>\n",
       "        <tr>\n",
       "            <td>0.5                  </td> <td>0.5          </td>\n",
       "        </tr>\n",
       "        <tr>\n",
       "            <td>0.6                  </td> <td>0.489898     </td>\n",
       "        </tr>\n",
       "        <tr>\n",
       "            <td>0.7                  </td> <td>0.458258     </td>\n",
       "        </tr>\n",
       "        <tr>\n",
       "            <td>0.8                  </td> <td>0.4          </td>\n",
       "        </tr>\n",
       "        <tr>\n",
       "            <td>0.9                  </td> <td>0.3          </td>\n",
       "        </tr>\n",
       "    </tbody>\n",
       "</table>"
      ],
      "text/plain": [
       "Population Proportion | Population SD\n",
       "0.1                   | 0.3\n",
       "0.2                   | 0.4\n",
       "0.3                   | 0.458258\n",
       "0.4                   | 0.489898\n",
       "0.5                   | 0.5\n",
       "0.6                   | 0.489898\n",
       "0.7                   | 0.458258\n",
       "0.8                   | 0.4\n",
       "0.9                   | 0.3"
      ]
     },
     "execution_count": 21,
     "metadata": {},
     "output_type": "execute_result"
    }
   ],
   "source": [
    "pop_proportions = make_array()\n",
    "pop_SDs = make_array()\n",
    "\n",
    "for k in np.arange(1, 10):\n",
    "    population = np.append(np.ones(k), np.zeros(10 - k))\n",
    "    population_SD = np.std(population)\n",
    "    pop_SDs = np.append(pop_SDs, population_SD)\n",
    "    pop_proportions = np.append(pop_proportions, k/10)\n",
    "    \n",
    "sd_table = Table().with_columns(\n",
    "    'Population Proportion', pop_proportions,\n",
    "    'Population SD', pop_SDs\n",
    ")\n",
    "\n",
    "sd_table"
   ]
  },
  {
   "cell_type": "code",
   "execution_count": 22,
   "metadata": {},
   "outputs": [
    {
     "data": {
      "image/png": "[encoded data removed]",
      "text/plain": [
       "<Figure size 360x360 with 1 Axes>"
      ]
     },
     "metadata": {},
     "output_type": "display_data"
    }
   ],
   "source": [
    "sd_table.scatter(0)"
   ]
  },
  {
   "cell_type": "code",
   "execution_count": null,
   "metadata": {},
   "outputs": [],
   "source": []
  },
  {
   "cell_type": "code",
   "execution_count": null,
   "metadata": {},
   "outputs": [],
   "source": []
  }
 ],
 "metadata": {
  "anaconda-cloud": {},
  "kernelspec": {
   "display_name": "Python 3",
   "language": "python",
   "name": "python3"
  },
  "language_info": {
   "codemirror_mode": {
    "name": "ipython",
    "version": 3
   },
   "file_extension": ".py",
   "mimetype": "text/x-python",
   "name": "python",
   "nbconvert_exporter": "python",
   "pygments_lexer": "ipython3",
   "version": "3.8.8"
  }
 },
 "nbformat": 4,
 "nbformat_minor": 1
}
